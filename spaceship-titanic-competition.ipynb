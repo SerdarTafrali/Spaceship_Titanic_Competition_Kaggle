{
 "cells": [
  {
   "cell_type": "code",
   "execution_count": 1,
   "id": "c8feaceb",
   "metadata": {
    "_cell_guid": "b1076dfc-b9ad-4769-8c92-a6c4dae69d19",
    "_uuid": "8f2839f25d086af736a60e9eeb907d3b93b6e0e5",
    "execution": {
     "iopub.execute_input": "2022-10-30T19:05:28.999330Z",
     "iopub.status.busy": "2022-10-30T19:05:28.998688Z",
     "iopub.status.idle": "2022-10-30T19:05:29.015016Z",
     "shell.execute_reply": "2022-10-30T19:05:29.013675Z"
    },
    "papermill": {
     "duration": 0.040975,
     "end_time": "2022-10-30T19:05:29.017669",
     "exception": false,
     "start_time": "2022-10-30T19:05:28.976694",
     "status": "completed"
    },
    "tags": []
   },
   "outputs": [
    {
     "name": "stdout",
     "output_type": "stream",
     "text": [
      "/kaggle/input/spaceship-titanic/sample_submission.csv\n",
      "/kaggle/input/spaceship-titanic/train.csv\n",
      "/kaggle/input/spaceship-titanic/test.csv\n"
     ]
    }
   ],
   "source": [
    "# This Python 3 environment comes with many helpful analytics libraries installed\n",
    "# It is defined by the kaggle/python Docker image: https://github.com/kaggle/docker-python\n",
    "# For example, here's several helpful packages to load\n",
    "\n",
    "import numpy as np # linear algebra\n",
    "import pandas as pd # data processing, CSV file I/O (e.g. pd.read_csv)\n",
    "\n",
    "# Input data files are available in the read-only \"../input/\" directory\n",
    "# For example, running this (by clicking run or pressing Shift+Enter) will list all files under the input directory\n",
    "\n",
    "import os\n",
    "for dirname, _, filenames in os.walk('/kaggle/input'):\n",
    "    for filename in filenames:\n",
    "        print(os.path.join(dirname, filename))\n",
    "\n",
    "# You can write up to 20GB to the current directory (/kaggle/working/) that gets preserved as output when you create a version using \"Save & Run All\" \n",
    "# You can also write temporary files to /kaggle/temp/, but they won't be saved outside of the current session"
   ]
  },
  {
   "cell_type": "code",
   "execution_count": 2,
   "id": "6488439c",
   "metadata": {
    "execution": {
     "iopub.execute_input": "2022-10-30T19:05:29.051124Z",
     "iopub.status.busy": "2022-10-30T19:05:29.050363Z",
     "iopub.status.idle": "2022-10-30T19:05:42.738933Z",
     "shell.execute_reply": "2022-10-30T19:05:42.737846Z"
    },
    "papermill": {
     "duration": 13.708486,
     "end_time": "2022-10-30T19:05:42.741887",
     "exception": false,
     "start_time": "2022-10-30T19:05:29.033401",
     "status": "completed"
    },
    "tags": []
   },
   "outputs": [
    {
     "name": "stdout",
     "output_type": "stream",
     "text": [
      "Collecting lazypredict\r\n",
      "  Downloading lazypredict-0.2.12-py2.py3-none-any.whl (12 kB)\r\n",
      "Requirement already satisfied: scikit-learn in /opt/conda/lib/python3.7/site-packages (from lazypredict) (1.0.2)\r\n",
      "Requirement already satisfied: pandas in /opt/conda/lib/python3.7/site-packages (from lazypredict) (1.3.5)\r\n",
      "Requirement already satisfied: tqdm in /opt/conda/lib/python3.7/site-packages (from lazypredict) (4.64.0)\r\n",
      "Requirement already satisfied: lightgbm in /opt/conda/lib/python3.7/site-packages (from lazypredict) (3.3.2)\r\n",
      "Requirement already satisfied: click in /opt/conda/lib/python3.7/site-packages (from lazypredict) (8.0.4)\r\n",
      "Requirement already satisfied: xgboost in /opt/conda/lib/python3.7/site-packages (from lazypredict) (1.6.2)\r\n",
      "Requirement already satisfied: joblib in /opt/conda/lib/python3.7/site-packages (from lazypredict) (1.0.1)\r\n",
      "Requirement already satisfied: importlib-metadata in /opt/conda/lib/python3.7/site-packages (from click->lazypredict) (4.13.0)\r\n",
      "Requirement already satisfied: scipy in /opt/conda/lib/python3.7/site-packages (from lightgbm->lazypredict) (1.7.3)\r\n",
      "Requirement already satisfied: wheel in /opt/conda/lib/python3.7/site-packages (from lightgbm->lazypredict) (0.37.1)\r\n",
      "Requirement already satisfied: numpy in /opt/conda/lib/python3.7/site-packages (from lightgbm->lazypredict) (1.21.6)\r\n",
      "Requirement already satisfied: threadpoolctl>=2.0.0 in /opt/conda/lib/python3.7/site-packages (from scikit-learn->lazypredict) (3.1.0)\r\n",
      "Requirement already satisfied: python-dateutil>=2.7.3 in /opt/conda/lib/python3.7/site-packages (from pandas->lazypredict) (2.8.2)\r\n",
      "Requirement already satisfied: pytz>=2017.3 in /opt/conda/lib/python3.7/site-packages (from pandas->lazypredict) (2022.1)\r\n",
      "Requirement already satisfied: six>=1.5 in /opt/conda/lib/python3.7/site-packages (from python-dateutil>=2.7.3->pandas->lazypredict) (1.15.0)\r\n",
      "Requirement already satisfied: typing-extensions>=3.6.4 in /opt/conda/lib/python3.7/site-packages (from importlib-metadata->click->lazypredict) (4.4.0)\r\n",
      "Requirement already satisfied: zipp>=0.5 in /opt/conda/lib/python3.7/site-packages (from importlib-metadata->click->lazypredict) (3.8.0)\r\n",
      "Installing collected packages: lazypredict\r\n",
      "Successfully installed lazypredict-0.2.12\r\n",
      "\u001b[33mWARNING: Running pip as the 'root' user can result in broken permissions and conflicting behaviour with the system package manager. It is recommended to use a virtual environment instead: https://pip.pypa.io/warnings/venv\u001b[0m\u001b[33m\r\n",
      "\u001b[0m"
     ]
    }
   ],
   "source": [
    "!pip install lazypredict"
   ]
  },
  {
   "cell_type": "code",
   "execution_count": 3,
   "id": "13942cbe",
   "metadata": {
    "execution": {
     "iopub.execute_input": "2022-10-30T19:05:42.776620Z",
     "iopub.status.busy": "2022-10-30T19:05:42.776166Z",
     "iopub.status.idle": "2022-10-30T19:05:46.489045Z",
     "shell.execute_reply": "2022-10-30T19:05:46.488139Z"
    },
    "papermill": {
     "duration": 3.732905,
     "end_time": "2022-10-30T19:05:46.491453",
     "exception": false,
     "start_time": "2022-10-30T19:05:42.758548",
     "status": "completed"
    },
    "tags": []
   },
   "outputs": [
    {
     "data": {
      "text/html": [
       "<style type='text/css'>\n",
       ".datatable table.frame { margin-bottom: 0; }\n",
       ".datatable table.frame thead { border-bottom: none; }\n",
       ".datatable table.frame tr.coltypes td {  color: #FFFFFF;  line-height: 6px;  padding: 0 0.5em;}\n",
       ".datatable .bool    { background: #DDDD99; }\n",
       ".datatable .object  { background: #565656; }\n",
       ".datatable .int     { background: #5D9E5D; }\n",
       ".datatable .float   { background: #4040CC; }\n",
       ".datatable .str     { background: #CC4040; }\n",
       ".datatable .time    { background: #40CC40; }\n",
       ".datatable .row_index {  background: var(--jp-border-color3);  border-right: 1px solid var(--jp-border-color0);  color: var(--jp-ui-font-color3);  font-size: 9px;}\n",
       ".datatable .frame tbody td { text-align: left; }\n",
       ".datatable .frame tr.coltypes .row_index {  background: var(--jp-border-color0);}\n",
       ".datatable th:nth-child(2) { padding-left: 12px; }\n",
       ".datatable .hellipsis {  color: var(--jp-cell-editor-border-color);}\n",
       ".datatable .vellipsis {  background: var(--jp-layout-color0);  color: var(--jp-cell-editor-border-color);}\n",
       ".datatable .na {  color: var(--jp-cell-editor-border-color);  font-size: 80%;}\n",
       ".datatable .sp {  opacity: 0.25;}\n",
       ".datatable .footer { font-size: 9px; }\n",
       ".datatable .frame_dimensions {  background: var(--jp-border-color3);  border-top: 1px solid var(--jp-border-color0);  color: var(--jp-ui-font-color3);  display: inline-block;  opacity: 0.6;  padding: 1px 10px 1px 5px;}\n",
       "</style>\n"
      ],
      "text/plain": [
       "<IPython.core.display.HTML object>"
      ]
     },
     "metadata": {},
     "output_type": "display_data"
    }
   ],
   "source": [
    "import pandas as pd\n",
    "import numpy as np\n",
    "import itertools\n",
    "import warnings\n",
    "warnings.filterwarnings('ignore')\n",
    "import time\n",
    "\n",
    "# Analysis\n",
    "from sklearn.impute import SimpleImputer\n",
    "from sklearn.pipeline import Pipeline\n",
    "from sklearn.preprocessing import StandardScaler, OneHotEncoder\n",
    "from sklearn.compose import ColumnTransformer\n",
    "from sklearn.model_selection import train_test_split,StratifiedKFold, GridSearchCV\n",
    "\n",
    "\n",
    "# Models\n",
    "from lightgbm import LGBMClassifier\n",
    "from sklearn.ensemble import RandomForestClassifier\n",
    "import lazypredict\n",
    "from lazypredict.Supervised import LazyClassifier\n",
    "\n",
    "\n",
    "# Visualizing\n",
    "import matplotlib.pyplot as plt\n",
    "import seaborn as sns\n",
    "import plotly.express as px"
   ]
  },
  {
   "cell_type": "code",
   "execution_count": 4,
   "id": "a3a49b35",
   "metadata": {
    "execution": {
     "iopub.execute_input": "2022-10-30T19:05:46.527868Z",
     "iopub.status.busy": "2022-10-30T19:05:46.526766Z",
     "iopub.status.idle": "2022-10-30T19:05:57.399066Z",
     "shell.execute_reply": "2022-10-30T19:05:57.397575Z"
    },
    "jupyter": {
     "source_hidden": true
    },
    "papermill": {
     "duration": 10.893439,
     "end_time": "2022-10-30T19:05:57.401937",
     "exception": false,
     "start_time": "2022-10-30T19:05:46.508498",
     "status": "completed"
    },
    "tags": []
   },
   "outputs": [
    {
     "name": "stdout",
     "output_type": "stream",
     "text": [
      "Requirement already satisfied: lazypredict in /opt/conda/lib/python3.7/site-packages (0.2.12)\r\n",
      "Requirement already satisfied: tqdm in /opt/conda/lib/python3.7/site-packages (from lazypredict) (4.64.0)\r\n",
      "Requirement already satisfied: xgboost in /opt/conda/lib/python3.7/site-packages (from lazypredict) (1.6.2)\r\n",
      "Requirement already satisfied: click in /opt/conda/lib/python3.7/site-packages (from lazypredict) (8.0.4)\r\n",
      "Requirement already satisfied: lightgbm in /opt/conda/lib/python3.7/site-packages (from lazypredict) (3.3.2)\r\n",
      "Requirement already satisfied: scikit-learn in /opt/conda/lib/python3.7/site-packages (from lazypredict) (1.0.2)\r\n",
      "Requirement already satisfied: joblib in /opt/conda/lib/python3.7/site-packages (from lazypredict) (1.0.1)\r\n",
      "Requirement already satisfied: pandas in /opt/conda/lib/python3.7/site-packages (from lazypredict) (1.3.5)\r\n",
      "Requirement already satisfied: importlib-metadata in /opt/conda/lib/python3.7/site-packages (from click->lazypredict) (4.13.0)\r\n",
      "Requirement already satisfied: numpy in /opt/conda/lib/python3.7/site-packages (from lightgbm->lazypredict) (1.21.6)\r\n",
      "Requirement already satisfied: wheel in /opt/conda/lib/python3.7/site-packages (from lightgbm->lazypredict) (0.37.1)\r\n",
      "Requirement already satisfied: scipy in /opt/conda/lib/python3.7/site-packages (from lightgbm->lazypredict) (1.7.3)\r\n",
      "Requirement already satisfied: threadpoolctl>=2.0.0 in /opt/conda/lib/python3.7/site-packages (from scikit-learn->lazypredict) (3.1.0)\r\n",
      "Requirement already satisfied: python-dateutil>=2.7.3 in /opt/conda/lib/python3.7/site-packages (from pandas->lazypredict) (2.8.2)\r\n",
      "Requirement already satisfied: pytz>=2017.3 in /opt/conda/lib/python3.7/site-packages (from pandas->lazypredict) (2022.1)\r\n",
      "Requirement already satisfied: six>=1.5 in /opt/conda/lib/python3.7/site-packages (from python-dateutil>=2.7.3->pandas->lazypredict) (1.15.0)\r\n",
      "Requirement already satisfied: typing-extensions>=3.6.4 in /opt/conda/lib/python3.7/site-packages (from importlib-metadata->click->lazypredict) (4.4.0)\r\n",
      "Requirement already satisfied: zipp>=0.5 in /opt/conda/lib/python3.7/site-packages (from importlib-metadata->click->lazypredict) (3.8.0)\r\n",
      "\u001b[33mWARNING: Running pip as the 'root' user can result in broken permissions and conflicting behaviour with the system package manager. It is recommended to use a virtual environment instead: https://pip.pypa.io/warnings/venv\u001b[0m\u001b[33m\r\n",
      "\u001b[0m"
     ]
    }
   ],
   "source": [
    "!pip install lazypredict"
   ]
  },
  {
   "cell_type": "code",
   "execution_count": null,
   "id": "5978cc89",
   "metadata": {
    "papermill": {
     "duration": 0.016234,
     "end_time": "2022-10-30T19:05:57.435068",
     "exception": false,
     "start_time": "2022-10-30T19:05:57.418834",
     "status": "completed"
    },
    "tags": []
   },
   "outputs": [],
   "source": []
  },
  {
   "cell_type": "code",
   "execution_count": 5,
   "id": "8009dc46",
   "metadata": {
    "execution": {
     "iopub.execute_input": "2022-10-30T19:05:57.471355Z",
     "iopub.status.busy": "2022-10-30T19:05:57.470175Z",
     "iopub.status.idle": "2022-10-30T19:05:57.576939Z",
     "shell.execute_reply": "2022-10-30T19:05:57.575830Z"
    },
    "papermill": {
     "duration": 0.127928,
     "end_time": "2022-10-30T19:05:57.579705",
     "exception": false,
     "start_time": "2022-10-30T19:05:57.451777",
     "status": "completed"
    },
    "tags": []
   },
   "outputs": [],
   "source": [
    "train = pd.read_csv('../input/spaceship-titanic/train.csv')\n",
    "test = pd.read_csv('../input/spaceship-titanic/test.csv')\n",
    "submission = pd.read_csv('../input/spaceship-titanic/sample_submission.csv')"
   ]
  },
  {
   "cell_type": "markdown",
   "id": "1182b6cc",
   "metadata": {
    "papermill": {
     "duration": 0.016165,
     "end_time": "2022-10-30T19:05:57.612692",
     "exception": false,
     "start_time": "2022-10-30T19:05:57.596527",
     "status": "completed"
    },
    "tags": []
   },
   "source": [
    "# Exploratory Data Analysis"
   ]
  },
  {
   "cell_type": "code",
   "execution_count": 6,
   "id": "9494ddf1",
   "metadata": {
    "execution": {
     "iopub.execute_input": "2022-10-30T19:05:57.648884Z",
     "iopub.status.busy": "2022-10-30T19:05:57.648457Z",
     "iopub.status.idle": "2022-10-30T19:05:57.673485Z",
     "shell.execute_reply": "2022-10-30T19:05:57.672093Z"
    },
    "papermill": {
     "duration": 0.045655,
     "end_time": "2022-10-30T19:05:57.676129",
     "exception": false,
     "start_time": "2022-10-30T19:05:57.630474",
     "status": "completed"
    },
    "tags": []
   },
   "outputs": [
    {
     "data": {
      "text/html": [
       "<div>\n",
       "<style scoped>\n",
       "    .dataframe tbody tr th:only-of-type {\n",
       "        vertical-align: middle;\n",
       "    }\n",
       "\n",
       "    .dataframe tbody tr th {\n",
       "        vertical-align: top;\n",
       "    }\n",
       "\n",
       "    .dataframe thead th {\n",
       "        text-align: right;\n",
       "    }\n",
       "</style>\n",
       "<table border=\"1\" class=\"dataframe\">\n",
       "  <thead>\n",
       "    <tr style=\"text-align: right;\">\n",
       "      <th></th>\n",
       "      <th>PassengerId</th>\n",
       "      <th>HomePlanet</th>\n",
       "      <th>CryoSleep</th>\n",
       "      <th>Cabin</th>\n",
       "      <th>Destination</th>\n",
       "      <th>Age</th>\n",
       "      <th>VIP</th>\n",
       "      <th>RoomService</th>\n",
       "      <th>FoodCourt</th>\n",
       "      <th>ShoppingMall</th>\n",
       "      <th>Spa</th>\n",
       "      <th>VRDeck</th>\n",
       "      <th>Name</th>\n",
       "      <th>Transported</th>\n",
       "    </tr>\n",
       "  </thead>\n",
       "  <tbody>\n",
       "    <tr>\n",
       "      <th>0</th>\n",
       "      <td>0001_01</td>\n",
       "      <td>Europa</td>\n",
       "      <td>False</td>\n",
       "      <td>B/0/P</td>\n",
       "      <td>TRAPPIST-1e</td>\n",
       "      <td>39.00</td>\n",
       "      <td>False</td>\n",
       "      <td>0.00</td>\n",
       "      <td>0.00</td>\n",
       "      <td>0.00</td>\n",
       "      <td>0.00</td>\n",
       "      <td>0.00</td>\n",
       "      <td>Maham Ofracculy</td>\n",
       "      <td>False</td>\n",
       "    </tr>\n",
       "    <tr>\n",
       "      <th>1</th>\n",
       "      <td>0002_01</td>\n",
       "      <td>Earth</td>\n",
       "      <td>False</td>\n",
       "      <td>F/0/S</td>\n",
       "      <td>TRAPPIST-1e</td>\n",
       "      <td>24.00</td>\n",
       "      <td>False</td>\n",
       "      <td>109.00</td>\n",
       "      <td>9.00</td>\n",
       "      <td>25.00</td>\n",
       "      <td>549.00</td>\n",
       "      <td>44.00</td>\n",
       "      <td>Juanna Vines</td>\n",
       "      <td>True</td>\n",
       "    </tr>\n",
       "    <tr>\n",
       "      <th>2</th>\n",
       "      <td>0003_01</td>\n",
       "      <td>Europa</td>\n",
       "      <td>False</td>\n",
       "      <td>A/0/S</td>\n",
       "      <td>TRAPPIST-1e</td>\n",
       "      <td>58.00</td>\n",
       "      <td>True</td>\n",
       "      <td>43.00</td>\n",
       "      <td>3576.00</td>\n",
       "      <td>0.00</td>\n",
       "      <td>6715.00</td>\n",
       "      <td>49.00</td>\n",
       "      <td>Altark Susent</td>\n",
       "      <td>False</td>\n",
       "    </tr>\n",
       "    <tr>\n",
       "      <th>3</th>\n",
       "      <td>0003_02</td>\n",
       "      <td>Europa</td>\n",
       "      <td>False</td>\n",
       "      <td>A/0/S</td>\n",
       "      <td>TRAPPIST-1e</td>\n",
       "      <td>33.00</td>\n",
       "      <td>False</td>\n",
       "      <td>0.00</td>\n",
       "      <td>1283.00</td>\n",
       "      <td>371.00</td>\n",
       "      <td>3329.00</td>\n",
       "      <td>193.00</td>\n",
       "      <td>Solam Susent</td>\n",
       "      <td>False</td>\n",
       "    </tr>\n",
       "    <tr>\n",
       "      <th>4</th>\n",
       "      <td>0004_01</td>\n",
       "      <td>Earth</td>\n",
       "      <td>False</td>\n",
       "      <td>F/1/S</td>\n",
       "      <td>TRAPPIST-1e</td>\n",
       "      <td>16.00</td>\n",
       "      <td>False</td>\n",
       "      <td>303.00</td>\n",
       "      <td>70.00</td>\n",
       "      <td>151.00</td>\n",
       "      <td>565.00</td>\n",
       "      <td>2.00</td>\n",
       "      <td>Willy Santantines</td>\n",
       "      <td>True</td>\n",
       "    </tr>\n",
       "  </tbody>\n",
       "</table>\n",
       "</div>"
      ],
      "text/plain": [
       "  PassengerId HomePlanet CryoSleep  Cabin  Destination   Age    VIP  \\\n",
       "0     0001_01     Europa     False  B/0/P  TRAPPIST-1e 39.00  False   \n",
       "1     0002_01      Earth     False  F/0/S  TRAPPIST-1e 24.00  False   \n",
       "2     0003_01     Europa     False  A/0/S  TRAPPIST-1e 58.00   True   \n",
       "3     0003_02     Europa     False  A/0/S  TRAPPIST-1e 33.00  False   \n",
       "4     0004_01      Earth     False  F/1/S  TRAPPIST-1e 16.00  False   \n",
       "\n",
       "   RoomService  FoodCourt  ShoppingMall     Spa  VRDeck               Name  \\\n",
       "0         0.00       0.00          0.00    0.00    0.00    Maham Ofracculy   \n",
       "1       109.00       9.00         25.00  549.00   44.00       Juanna Vines   \n",
       "2        43.00    3576.00          0.00 6715.00   49.00      Altark Susent   \n",
       "3         0.00    1283.00        371.00 3329.00  193.00       Solam Susent   \n",
       "4       303.00      70.00        151.00  565.00    2.00  Willy Santantines   \n",
       "\n",
       "   Transported  \n",
       "0        False  \n",
       "1         True  \n",
       "2        False  \n",
       "3        False  \n",
       "4         True  "
      ]
     },
     "execution_count": 6,
     "metadata": {},
     "output_type": "execute_result"
    }
   ],
   "source": [
    "train.head()"
   ]
  },
  {
   "cell_type": "code",
   "execution_count": 7,
   "id": "26a7965f",
   "metadata": {
    "execution": {
     "iopub.execute_input": "2022-10-30T19:05:57.712139Z",
     "iopub.status.busy": "2022-10-30T19:05:57.711364Z",
     "iopub.status.idle": "2022-10-30T19:05:57.741459Z",
     "shell.execute_reply": "2022-10-30T19:05:57.739915Z"
    },
    "papermill": {
     "duration": 0.050918,
     "end_time": "2022-10-30T19:05:57.744194",
     "exception": false,
     "start_time": "2022-10-30T19:05:57.693276",
     "status": "completed"
    },
    "tags": []
   },
   "outputs": [
    {
     "name": "stdout",
     "output_type": "stream",
     "text": [
      "<class 'pandas.core.frame.DataFrame'>\n",
      "RangeIndex: 8693 entries, 0 to 8692\n",
      "Data columns (total 14 columns):\n",
      " #   Column        Non-Null Count  Dtype  \n",
      "---  ------        --------------  -----  \n",
      " 0   PassengerId   8693 non-null   object \n",
      " 1   HomePlanet    8492 non-null   object \n",
      " 2   CryoSleep     8476 non-null   object \n",
      " 3   Cabin         8494 non-null   object \n",
      " 4   Destination   8511 non-null   object \n",
      " 5   Age           8514 non-null   float64\n",
      " 6   VIP           8490 non-null   object \n",
      " 7   RoomService   8512 non-null   float64\n",
      " 8   FoodCourt     8510 non-null   float64\n",
      " 9   ShoppingMall  8485 non-null   float64\n",
      " 10  Spa           8510 non-null   float64\n",
      " 11  VRDeck        8505 non-null   float64\n",
      " 12  Name          8493 non-null   object \n",
      " 13  Transported   8693 non-null   bool   \n",
      "dtypes: bool(1), float64(6), object(7)\n",
      "memory usage: 891.5+ KB\n"
     ]
    }
   ],
   "source": [
    "train.info()"
   ]
  },
  {
   "cell_type": "code",
   "execution_count": 8,
   "id": "264bd393",
   "metadata": {
    "execution": {
     "iopub.execute_input": "2022-10-30T19:05:57.780684Z",
     "iopub.status.busy": "2022-10-30T19:05:57.779627Z",
     "iopub.status.idle": "2022-10-30T19:05:57.790621Z",
     "shell.execute_reply": "2022-10-30T19:05:57.789482Z"
    },
    "papermill": {
     "duration": 0.031807,
     "end_time": "2022-10-30T19:05:57.793150",
     "exception": false,
     "start_time": "2022-10-30T19:05:57.761343",
     "status": "completed"
    },
    "tags": []
   },
   "outputs": [
    {
     "data": {
      "text/plain": [
       "2324"
      ]
     },
     "execution_count": 8,
     "metadata": {},
     "output_type": "execute_result"
    }
   ],
   "source": [
    "sum(train.isna().sum())"
   ]
  },
  {
   "cell_type": "code",
   "execution_count": 9,
   "id": "18e224db",
   "metadata": {
    "execution": {
     "iopub.execute_input": "2022-10-30T19:05:57.829038Z",
     "iopub.status.busy": "2022-10-30T19:05:57.828448Z",
     "iopub.status.idle": "2022-10-30T19:05:57.842303Z",
     "shell.execute_reply": "2022-10-30T19:05:57.841187Z"
    },
    "papermill": {
     "duration": 0.034483,
     "end_time": "2022-10-30T19:05:57.844636",
     "exception": false,
     "start_time": "2022-10-30T19:05:57.810153",
     "status": "completed"
    },
    "tags": []
   },
   "outputs": [
    {
     "data": {
      "text/plain": [
       "CryoSleep       217\n",
       "ShoppingMall    208\n",
       "VIP             203\n",
       "HomePlanet      201\n",
       "Name            200\n",
       "Cabin           199\n",
       "VRDeck          188\n",
       "FoodCourt       183\n",
       "Spa             183\n",
       "Destination     182\n",
       "RoomService     181\n",
       "Age             179\n",
       "PassengerId       0\n",
       "Transported       0\n",
       "dtype: int64"
      ]
     },
     "execution_count": 9,
     "metadata": {},
     "output_type": "execute_result"
    }
   ],
   "source": [
    "train.isna().sum().sort_values(ascending = False)"
   ]
  },
  {
   "cell_type": "code",
   "execution_count": 10,
   "id": "e03e0006",
   "metadata": {
    "execution": {
     "iopub.execute_input": "2022-10-30T19:05:57.880905Z",
     "iopub.status.busy": "2022-10-30T19:05:57.880480Z",
     "iopub.status.idle": "2022-10-30T19:05:57.915269Z",
     "shell.execute_reply": "2022-10-30T19:05:57.913983Z"
    },
    "papermill": {
     "duration": 0.055934,
     "end_time": "2022-10-30T19:05:57.917886",
     "exception": false,
     "start_time": "2022-10-30T19:05:57.861952",
     "status": "completed"
    },
    "tags": []
   },
   "outputs": [
    {
     "data": {
      "text/html": [
       "<div>\n",
       "<style scoped>\n",
       "    .dataframe tbody tr th:only-of-type {\n",
       "        vertical-align: middle;\n",
       "    }\n",
       "\n",
       "    .dataframe tbody tr th {\n",
       "        vertical-align: top;\n",
       "    }\n",
       "\n",
       "    .dataframe thead th {\n",
       "        text-align: right;\n",
       "    }\n",
       "</style>\n",
       "<table border=\"1\" class=\"dataframe\">\n",
       "  <thead>\n",
       "    <tr style=\"text-align: right;\">\n",
       "      <th></th>\n",
       "      <th>Age</th>\n",
       "      <th>RoomService</th>\n",
       "      <th>FoodCourt</th>\n",
       "      <th>ShoppingMall</th>\n",
       "      <th>Spa</th>\n",
       "      <th>VRDeck</th>\n",
       "    </tr>\n",
       "  </thead>\n",
       "  <tbody>\n",
       "    <tr>\n",
       "      <th>count</th>\n",
       "      <td>8514.00</td>\n",
       "      <td>8512.00</td>\n",
       "      <td>8510.00</td>\n",
       "      <td>8485.00</td>\n",
       "      <td>8510.00</td>\n",
       "      <td>8505.00</td>\n",
       "    </tr>\n",
       "    <tr>\n",
       "      <th>mean</th>\n",
       "      <td>28.83</td>\n",
       "      <td>224.69</td>\n",
       "      <td>458.08</td>\n",
       "      <td>173.73</td>\n",
       "      <td>311.14</td>\n",
       "      <td>304.85</td>\n",
       "    </tr>\n",
       "    <tr>\n",
       "      <th>std</th>\n",
       "      <td>14.49</td>\n",
       "      <td>666.72</td>\n",
       "      <td>1611.49</td>\n",
       "      <td>604.70</td>\n",
       "      <td>1136.71</td>\n",
       "      <td>1145.72</td>\n",
       "    </tr>\n",
       "    <tr>\n",
       "      <th>min</th>\n",
       "      <td>0.00</td>\n",
       "      <td>0.00</td>\n",
       "      <td>0.00</td>\n",
       "      <td>0.00</td>\n",
       "      <td>0.00</td>\n",
       "      <td>0.00</td>\n",
       "    </tr>\n",
       "    <tr>\n",
       "      <th>25%</th>\n",
       "      <td>19.00</td>\n",
       "      <td>0.00</td>\n",
       "      <td>0.00</td>\n",
       "      <td>0.00</td>\n",
       "      <td>0.00</td>\n",
       "      <td>0.00</td>\n",
       "    </tr>\n",
       "    <tr>\n",
       "      <th>50%</th>\n",
       "      <td>27.00</td>\n",
       "      <td>0.00</td>\n",
       "      <td>0.00</td>\n",
       "      <td>0.00</td>\n",
       "      <td>0.00</td>\n",
       "      <td>0.00</td>\n",
       "    </tr>\n",
       "    <tr>\n",
       "      <th>75%</th>\n",
       "      <td>38.00</td>\n",
       "      <td>47.00</td>\n",
       "      <td>76.00</td>\n",
       "      <td>27.00</td>\n",
       "      <td>59.00</td>\n",
       "      <td>46.00</td>\n",
       "    </tr>\n",
       "    <tr>\n",
       "      <th>max</th>\n",
       "      <td>79.00</td>\n",
       "      <td>14327.00</td>\n",
       "      <td>29813.00</td>\n",
       "      <td>23492.00</td>\n",
       "      <td>22408.00</td>\n",
       "      <td>24133.00</td>\n",
       "    </tr>\n",
       "  </tbody>\n",
       "</table>\n",
       "</div>"
      ],
      "text/plain": [
       "          Age  RoomService  FoodCourt  ShoppingMall      Spa   VRDeck\n",
       "count 8514.00      8512.00    8510.00       8485.00  8510.00  8505.00\n",
       "mean    28.83       224.69     458.08        173.73   311.14   304.85\n",
       "std     14.49       666.72    1611.49        604.70  1136.71  1145.72\n",
       "min      0.00         0.00       0.00          0.00     0.00     0.00\n",
       "25%     19.00         0.00       0.00          0.00     0.00     0.00\n",
       "50%     27.00         0.00       0.00          0.00     0.00     0.00\n",
       "75%     38.00        47.00      76.00         27.00    59.00    46.00\n",
       "max     79.00     14327.00   29813.00      23492.00 22408.00 24133.00"
      ]
     },
     "execution_count": 10,
     "metadata": {},
     "output_type": "execute_result"
    }
   ],
   "source": [
    "train.describe()"
   ]
  },
  {
   "cell_type": "code",
   "execution_count": 11,
   "id": "6cab5d5e",
   "metadata": {
    "execution": {
     "iopub.execute_input": "2022-10-30T19:05:57.955715Z",
     "iopub.status.busy": "2022-10-30T19:05:57.955331Z",
     "iopub.status.idle": "2022-10-30T19:05:57.970841Z",
     "shell.execute_reply": "2022-10-30T19:05:57.970039Z"
    },
    "papermill": {
     "duration": 0.037317,
     "end_time": "2022-10-30T19:05:57.973471",
     "exception": false,
     "start_time": "2022-10-30T19:05:57.936154",
     "status": "completed"
    },
    "tags": []
   },
   "outputs": [
    {
     "data": {
      "text/html": [
       "<div>\n",
       "<style scoped>\n",
       "    .dataframe tbody tr th:only-of-type {\n",
       "        vertical-align: middle;\n",
       "    }\n",
       "\n",
       "    .dataframe tbody tr th {\n",
       "        vertical-align: top;\n",
       "    }\n",
       "\n",
       "    .dataframe thead th {\n",
       "        text-align: right;\n",
       "    }\n",
       "</style>\n",
       "<table border=\"1\" class=\"dataframe\">\n",
       "  <thead>\n",
       "    <tr style=\"text-align: right;\">\n",
       "      <th></th>\n",
       "      <th>PassengerId</th>\n",
       "      <th>HomePlanet</th>\n",
       "      <th>CryoSleep</th>\n",
       "      <th>Cabin</th>\n",
       "      <th>Destination</th>\n",
       "      <th>Age</th>\n",
       "      <th>VIP</th>\n",
       "      <th>RoomService</th>\n",
       "      <th>FoodCourt</th>\n",
       "      <th>ShoppingMall</th>\n",
       "      <th>Spa</th>\n",
       "      <th>VRDeck</th>\n",
       "      <th>Name</th>\n",
       "    </tr>\n",
       "  </thead>\n",
       "  <tbody>\n",
       "    <tr>\n",
       "      <th>0</th>\n",
       "      <td>0013_01</td>\n",
       "      <td>Earth</td>\n",
       "      <td>True</td>\n",
       "      <td>G/3/S</td>\n",
       "      <td>TRAPPIST-1e</td>\n",
       "      <td>27.00</td>\n",
       "      <td>False</td>\n",
       "      <td>0.00</td>\n",
       "      <td>0.00</td>\n",
       "      <td>0.00</td>\n",
       "      <td>0.00</td>\n",
       "      <td>0.00</td>\n",
       "      <td>Nelly Carsoning</td>\n",
       "    </tr>\n",
       "    <tr>\n",
       "      <th>1</th>\n",
       "      <td>0018_01</td>\n",
       "      <td>Earth</td>\n",
       "      <td>False</td>\n",
       "      <td>F/4/S</td>\n",
       "      <td>TRAPPIST-1e</td>\n",
       "      <td>19.00</td>\n",
       "      <td>False</td>\n",
       "      <td>0.00</td>\n",
       "      <td>9.00</td>\n",
       "      <td>0.00</td>\n",
       "      <td>2823.00</td>\n",
       "      <td>0.00</td>\n",
       "      <td>Lerome Peckers</td>\n",
       "    </tr>\n",
       "    <tr>\n",
       "      <th>2</th>\n",
       "      <td>0019_01</td>\n",
       "      <td>Europa</td>\n",
       "      <td>True</td>\n",
       "      <td>C/0/S</td>\n",
       "      <td>55 Cancri e</td>\n",
       "      <td>31.00</td>\n",
       "      <td>False</td>\n",
       "      <td>0.00</td>\n",
       "      <td>0.00</td>\n",
       "      <td>0.00</td>\n",
       "      <td>0.00</td>\n",
       "      <td>0.00</td>\n",
       "      <td>Sabih Unhearfus</td>\n",
       "    </tr>\n",
       "    <tr>\n",
       "      <th>3</th>\n",
       "      <td>0021_01</td>\n",
       "      <td>Europa</td>\n",
       "      <td>False</td>\n",
       "      <td>C/1/S</td>\n",
       "      <td>TRAPPIST-1e</td>\n",
       "      <td>38.00</td>\n",
       "      <td>False</td>\n",
       "      <td>0.00</td>\n",
       "      <td>6652.00</td>\n",
       "      <td>0.00</td>\n",
       "      <td>181.00</td>\n",
       "      <td>585.00</td>\n",
       "      <td>Meratz Caltilter</td>\n",
       "    </tr>\n",
       "    <tr>\n",
       "      <th>4</th>\n",
       "      <td>0023_01</td>\n",
       "      <td>Earth</td>\n",
       "      <td>False</td>\n",
       "      <td>F/5/S</td>\n",
       "      <td>TRAPPIST-1e</td>\n",
       "      <td>20.00</td>\n",
       "      <td>False</td>\n",
       "      <td>10.00</td>\n",
       "      <td>0.00</td>\n",
       "      <td>635.00</td>\n",
       "      <td>0.00</td>\n",
       "      <td>0.00</td>\n",
       "      <td>Brence Harperez</td>\n",
       "    </tr>\n",
       "  </tbody>\n",
       "</table>\n",
       "</div>"
      ],
      "text/plain": [
       "  PassengerId HomePlanet CryoSleep  Cabin  Destination   Age    VIP  \\\n",
       "0     0013_01      Earth      True  G/3/S  TRAPPIST-1e 27.00  False   \n",
       "1     0018_01      Earth     False  F/4/S  TRAPPIST-1e 19.00  False   \n",
       "2     0019_01     Europa      True  C/0/S  55 Cancri e 31.00  False   \n",
       "3     0021_01     Europa     False  C/1/S  TRAPPIST-1e 38.00  False   \n",
       "4     0023_01      Earth     False  F/5/S  TRAPPIST-1e 20.00  False   \n",
       "\n",
       "   RoomService  FoodCourt  ShoppingMall     Spa  VRDeck              Name  \n",
       "0         0.00       0.00          0.00    0.00    0.00   Nelly Carsoning  \n",
       "1         0.00       9.00          0.00 2823.00    0.00    Lerome Peckers  \n",
       "2         0.00       0.00          0.00    0.00    0.00   Sabih Unhearfus  \n",
       "3         0.00    6652.00          0.00  181.00  585.00  Meratz Caltilter  \n",
       "4        10.00       0.00        635.00    0.00    0.00   Brence Harperez  "
      ]
     },
     "execution_count": 11,
     "metadata": {},
     "output_type": "execute_result"
    }
   ],
   "source": [
    "test.head()"
   ]
  },
  {
   "cell_type": "code",
   "execution_count": 12,
   "id": "1895d33d",
   "metadata": {
    "execution": {
     "iopub.execute_input": "2022-10-30T19:05:58.010527Z",
     "iopub.status.busy": "2022-10-30T19:05:58.010148Z",
     "iopub.status.idle": "2022-10-30T19:05:58.025640Z",
     "shell.execute_reply": "2022-10-30T19:05:58.024027Z"
    },
    "papermill": {
     "duration": 0.036892,
     "end_time": "2022-10-30T19:05:58.028023",
     "exception": false,
     "start_time": "2022-10-30T19:05:57.991131",
     "status": "completed"
    },
    "tags": []
   },
   "outputs": [
    {
     "name": "stdout",
     "output_type": "stream",
     "text": [
      "<class 'pandas.core.frame.DataFrame'>\n",
      "RangeIndex: 4277 entries, 0 to 4276\n",
      "Data columns (total 13 columns):\n",
      " #   Column        Non-Null Count  Dtype  \n",
      "---  ------        --------------  -----  \n",
      " 0   PassengerId   4277 non-null   object \n",
      " 1   HomePlanet    4190 non-null   object \n",
      " 2   CryoSleep     4184 non-null   object \n",
      " 3   Cabin         4177 non-null   object \n",
      " 4   Destination   4185 non-null   object \n",
      " 5   Age           4186 non-null   float64\n",
      " 6   VIP           4184 non-null   object \n",
      " 7   RoomService   4195 non-null   float64\n",
      " 8   FoodCourt     4171 non-null   float64\n",
      " 9   ShoppingMall  4179 non-null   float64\n",
      " 10  Spa           4176 non-null   float64\n",
      " 11  VRDeck        4197 non-null   float64\n",
      " 12  Name          4183 non-null   object \n",
      "dtypes: float64(6), object(7)\n",
      "memory usage: 434.5+ KB\n"
     ]
    }
   ],
   "source": [
    "test.info()"
   ]
  },
  {
   "cell_type": "code",
   "execution_count": 13,
   "id": "56f9168e",
   "metadata": {
    "execution": {
     "iopub.execute_input": "2022-10-30T19:05:58.065571Z",
     "iopub.status.busy": "2022-10-30T19:05:58.065189Z",
     "iopub.status.idle": "2022-10-30T19:05:58.074932Z",
     "shell.execute_reply": "2022-10-30T19:05:58.073913Z"
    },
    "papermill": {
     "duration": 0.031433,
     "end_time": "2022-10-30T19:05:58.077333",
     "exception": false,
     "start_time": "2022-10-30T19:05:58.045900",
     "status": "completed"
    },
    "tags": []
   },
   "outputs": [
    {
     "data": {
      "text/plain": [
       "1117"
      ]
     },
     "execution_count": 13,
     "metadata": {},
     "output_type": "execute_result"
    }
   ],
   "source": [
    "sum(test.isna().sum())"
   ]
  },
  {
   "cell_type": "code",
   "execution_count": 14,
   "id": "002b0cb1",
   "metadata": {
    "execution": {
     "iopub.execute_input": "2022-10-30T19:05:58.115440Z",
     "iopub.status.busy": "2022-10-30T19:05:58.115066Z",
     "iopub.status.idle": "2022-10-30T19:05:58.126361Z",
     "shell.execute_reply": "2022-10-30T19:05:58.125293Z"
    },
    "papermill": {
     "duration": 0.032942,
     "end_time": "2022-10-30T19:05:58.128603",
     "exception": false,
     "start_time": "2022-10-30T19:05:58.095661",
     "status": "completed"
    },
    "tags": []
   },
   "outputs": [
    {
     "data": {
      "text/plain": [
       "FoodCourt       106\n",
       "Spa             101\n",
       "Cabin           100\n",
       "ShoppingMall     98\n",
       "Name             94\n",
       "CryoSleep        93\n",
       "VIP              93\n",
       "Destination      92\n",
       "Age              91\n",
       "HomePlanet       87\n",
       "RoomService      82\n",
       "VRDeck           80\n",
       "PassengerId       0\n",
       "dtype: int64"
      ]
     },
     "execution_count": 14,
     "metadata": {},
     "output_type": "execute_result"
    }
   ],
   "source": [
    "test.isna().sum().sort_values(ascending = False)"
   ]
  },
  {
   "cell_type": "code",
   "execution_count": 15,
   "id": "518225f7",
   "metadata": {
    "execution": {
     "iopub.execute_input": "2022-10-30T19:05:58.166172Z",
     "iopub.status.busy": "2022-10-30T19:05:58.165767Z",
     "iopub.status.idle": "2022-10-30T19:05:58.194878Z",
     "shell.execute_reply": "2022-10-30T19:05:58.193759Z"
    },
    "papermill": {
     "duration": 0.050934,
     "end_time": "2022-10-30T19:05:58.197319",
     "exception": false,
     "start_time": "2022-10-30T19:05:58.146385",
     "status": "completed"
    },
    "tags": []
   },
   "outputs": [
    {
     "data": {
      "text/html": [
       "<div>\n",
       "<style scoped>\n",
       "    .dataframe tbody tr th:only-of-type {\n",
       "        vertical-align: middle;\n",
       "    }\n",
       "\n",
       "    .dataframe tbody tr th {\n",
       "        vertical-align: top;\n",
       "    }\n",
       "\n",
       "    .dataframe thead th {\n",
       "        text-align: right;\n",
       "    }\n",
       "</style>\n",
       "<table border=\"1\" class=\"dataframe\">\n",
       "  <thead>\n",
       "    <tr style=\"text-align: right;\">\n",
       "      <th></th>\n",
       "      <th>Age</th>\n",
       "      <th>RoomService</th>\n",
       "      <th>FoodCourt</th>\n",
       "      <th>ShoppingMall</th>\n",
       "      <th>Spa</th>\n",
       "      <th>VRDeck</th>\n",
       "    </tr>\n",
       "  </thead>\n",
       "  <tbody>\n",
       "    <tr>\n",
       "      <th>count</th>\n",
       "      <td>4186.00</td>\n",
       "      <td>4195.00</td>\n",
       "      <td>4171.00</td>\n",
       "      <td>4179.00</td>\n",
       "      <td>4176.00</td>\n",
       "      <td>4197.00</td>\n",
       "    </tr>\n",
       "    <tr>\n",
       "      <th>mean</th>\n",
       "      <td>28.66</td>\n",
       "      <td>219.27</td>\n",
       "      <td>439.48</td>\n",
       "      <td>177.30</td>\n",
       "      <td>303.05</td>\n",
       "      <td>310.71</td>\n",
       "    </tr>\n",
       "    <tr>\n",
       "      <th>std</th>\n",
       "      <td>14.18</td>\n",
       "      <td>607.01</td>\n",
       "      <td>1527.66</td>\n",
       "      <td>560.82</td>\n",
       "      <td>1117.19</td>\n",
       "      <td>1246.99</td>\n",
       "    </tr>\n",
       "    <tr>\n",
       "      <th>min</th>\n",
       "      <td>0.00</td>\n",
       "      <td>0.00</td>\n",
       "      <td>0.00</td>\n",
       "      <td>0.00</td>\n",
       "      <td>0.00</td>\n",
       "      <td>0.00</td>\n",
       "    </tr>\n",
       "    <tr>\n",
       "      <th>25%</th>\n",
       "      <td>19.00</td>\n",
       "      <td>0.00</td>\n",
       "      <td>0.00</td>\n",
       "      <td>0.00</td>\n",
       "      <td>0.00</td>\n",
       "      <td>0.00</td>\n",
       "    </tr>\n",
       "    <tr>\n",
       "      <th>50%</th>\n",
       "      <td>26.00</td>\n",
       "      <td>0.00</td>\n",
       "      <td>0.00</td>\n",
       "      <td>0.00</td>\n",
       "      <td>0.00</td>\n",
       "      <td>0.00</td>\n",
       "    </tr>\n",
       "    <tr>\n",
       "      <th>75%</th>\n",
       "      <td>37.00</td>\n",
       "      <td>53.00</td>\n",
       "      <td>78.00</td>\n",
       "      <td>33.00</td>\n",
       "      <td>50.00</td>\n",
       "      <td>36.00</td>\n",
       "    </tr>\n",
       "    <tr>\n",
       "      <th>max</th>\n",
       "      <td>79.00</td>\n",
       "      <td>11567.00</td>\n",
       "      <td>25273.00</td>\n",
       "      <td>8292.00</td>\n",
       "      <td>19844.00</td>\n",
       "      <td>22272.00</td>\n",
       "    </tr>\n",
       "  </tbody>\n",
       "</table>\n",
       "</div>"
      ],
      "text/plain": [
       "          Age  RoomService  FoodCourt  ShoppingMall      Spa   VRDeck\n",
       "count 4186.00      4195.00    4171.00       4179.00  4176.00  4197.00\n",
       "mean    28.66       219.27     439.48        177.30   303.05   310.71\n",
       "std     14.18       607.01    1527.66        560.82  1117.19  1246.99\n",
       "min      0.00         0.00       0.00          0.00     0.00     0.00\n",
       "25%     19.00         0.00       0.00          0.00     0.00     0.00\n",
       "50%     26.00         0.00       0.00          0.00     0.00     0.00\n",
       "75%     37.00        53.00      78.00         33.00    50.00    36.00\n",
       "max     79.00     11567.00   25273.00       8292.00 19844.00 22272.00"
      ]
     },
     "execution_count": 15,
     "metadata": {},
     "output_type": "execute_result"
    }
   ],
   "source": [
    "test.describe()"
   ]
  },
  {
   "cell_type": "code",
   "execution_count": 16,
   "id": "f575868a",
   "metadata": {
    "execution": {
     "iopub.execute_input": "2022-10-30T19:05:58.236316Z",
     "iopub.status.busy": "2022-10-30T19:05:58.235919Z",
     "iopub.status.idle": "2022-10-30T19:05:58.246931Z",
     "shell.execute_reply": "2022-10-30T19:05:58.245688Z"
    },
    "papermill": {
     "duration": 0.033598,
     "end_time": "2022-10-30T19:05:58.249199",
     "exception": false,
     "start_time": "2022-10-30T19:05:58.215601",
     "status": "completed"
    },
    "tags": []
   },
   "outputs": [
    {
     "data": {
      "text/html": [
       "<div>\n",
       "<style scoped>\n",
       "    .dataframe tbody tr th:only-of-type {\n",
       "        vertical-align: middle;\n",
       "    }\n",
       "\n",
       "    .dataframe tbody tr th {\n",
       "        vertical-align: top;\n",
       "    }\n",
       "\n",
       "    .dataframe thead th {\n",
       "        text-align: right;\n",
       "    }\n",
       "</style>\n",
       "<table border=\"1\" class=\"dataframe\">\n",
       "  <thead>\n",
       "    <tr style=\"text-align: right;\">\n",
       "      <th></th>\n",
       "      <th>PassengerId</th>\n",
       "      <th>Transported</th>\n",
       "    </tr>\n",
       "  </thead>\n",
       "  <tbody>\n",
       "    <tr>\n",
       "      <th>0</th>\n",
       "      <td>0013_01</td>\n",
       "      <td>False</td>\n",
       "    </tr>\n",
       "    <tr>\n",
       "      <th>1</th>\n",
       "      <td>0018_01</td>\n",
       "      <td>False</td>\n",
       "    </tr>\n",
       "    <tr>\n",
       "      <th>2</th>\n",
       "      <td>0019_01</td>\n",
       "      <td>False</td>\n",
       "    </tr>\n",
       "    <tr>\n",
       "      <th>3</th>\n",
       "      <td>0021_01</td>\n",
       "      <td>False</td>\n",
       "    </tr>\n",
       "    <tr>\n",
       "      <th>4</th>\n",
       "      <td>0023_01</td>\n",
       "      <td>False</td>\n",
       "    </tr>\n",
       "  </tbody>\n",
       "</table>\n",
       "</div>"
      ],
      "text/plain": [
       "  PassengerId  Transported\n",
       "0     0013_01        False\n",
       "1     0018_01        False\n",
       "2     0019_01        False\n",
       "3     0021_01        False\n",
       "4     0023_01        False"
      ]
     },
     "execution_count": 16,
     "metadata": {},
     "output_type": "execute_result"
    }
   ],
   "source": [
    "submission.head()"
   ]
  },
  {
   "cell_type": "code",
   "execution_count": 17,
   "id": "d830f02c",
   "metadata": {
    "execution": {
     "iopub.execute_input": "2022-10-30T19:05:58.288423Z",
     "iopub.status.busy": "2022-10-30T19:05:58.287989Z",
     "iopub.status.idle": "2022-10-30T19:05:58.461519Z",
     "shell.execute_reply": "2022-10-30T19:05:58.459994Z"
    },
    "papermill": {
     "duration": 0.198388,
     "end_time": "2022-10-30T19:05:58.466188",
     "exception": false,
     "start_time": "2022-10-30T19:05:58.267800",
     "status": "completed"
    },
    "tags": []
   },
   "outputs": [
    {
     "data": {
      "text/plain": [
       "Text(0.5, 1.0, 'Target distribution')"
      ]
     },
     "execution_count": 17,
     "metadata": {},
     "output_type": "execute_result"
    },
    {
     "data": {
      "image/png": "[encoded data removed]",
      "text/plain": [
       "<Figure size 288x288 with 1 Axes>"
      ]
     },
     "metadata": {},
     "output_type": "display_data"
    }
   ],
   "source": [
    "# Transported değişkeninin dağılımını inceleyelim (target variable)\n",
    "# Figure size\n",
    "plt.figure(figsize=(4,4))\n",
    "\n",
    "# Pie plot\n",
    "train['Transported'].value_counts().plot.pie(autopct='%1.1f%%', textprops={'fontsize':16}).set_title(\"Target distribution\")"
   ]
  },
  {
   "cell_type": "markdown",
   "id": "5296d3e1",
   "metadata": {
    "papermill": {
     "duration": 0.021345,
     "end_time": "2022-10-30T19:05:58.536653",
     "exception": false,
     "start_time": "2022-10-30T19:05:58.515308",
     "status": "completed"
    },
    "tags": []
   },
   "source": [
    "# Feature Distribution"
   ]
  },
  {
   "cell_type": "code",
   "execution_count": 18,
   "id": "a9010c1a",
   "metadata": {
    "execution": {
     "iopub.execute_input": "2022-10-30T19:05:58.576137Z",
     "iopub.status.busy": "2022-10-30T19:05:58.575699Z",
     "iopub.status.idle": "2022-10-30T19:05:59.304385Z",
     "shell.execute_reply": "2022-10-30T19:05:59.303190Z"
    },
    "papermill": {
     "duration": 0.75142,
     "end_time": "2022-10-30T19:05:59.306969",
     "exception": false,
     "start_time": "2022-10-30T19:05:58.555549",
     "status": "completed"
    },
    "tags": []
   },
   "outputs": [
    {
     "data": {
      "text/plain": [
       "Text(0.5, 0, 'Age in years')"
      ]
     },
     "execution_count": 18,
     "metadata": {},
     "output_type": "execute_result"
    },
    {
     "data": {
      "image/png": "[encoded data removed]",
      "text/plain": [
       "<Figure size 864x288 with 1 Axes>"
      ]
     },
     "metadata": {
      "needs_background": "light"
     },
     "output_type": "display_data"
    }
   ],
   "source": [
    "# Feature Distribution - Continous Features\n",
    "# Figure size\n",
    "plt.figure(figsize=(12,4))\n",
    "\n",
    "# Histogram\n",
    "sns.histplot(data=train, x='Age', hue='Transported', binwidth=1, kde=True)\n",
    "\n",
    "# Aesthetics\n",
    "plt.title('Age Distribution')\n",
    "plt.xlabel('Age in years')"
   ]
  },
  {
   "cell_type": "code",
   "execution_count": 19,
   "id": "6065e337",
   "metadata": {
    "execution": {
     "iopub.execute_input": "2022-10-30T19:05:59.348446Z",
     "iopub.status.busy": "2022-10-30T19:05:59.347555Z",
     "iopub.status.idle": "2022-10-30T19:06:02.746927Z",
     "shell.execute_reply": "2022-10-30T19:06:02.745710Z"
    },
    "papermill": {
     "duration": 3.42358,
     "end_time": "2022-10-30T19:06:02.750123",
     "exception": false,
     "start_time": "2022-10-30T19:05:59.326543",
     "status": "completed"
    },
    "tags": []
   },
   "outputs": [
    {
     "data": {
      "image/png": "[encoded data removed]",
      "text/plain": [
       "<Figure size 720x720 with 10 Axes>"
      ]
     },
     "metadata": {
      "needs_background": "light"
     },
     "output_type": "display_data"
    }
   ],
   "source": [
    "# Yolcuların para harcama özellikleri\n",
    "exp_feats=['RoomService', 'FoodCourt', 'ShoppingMall', 'Spa', 'VRDeck']\n",
    "\n",
    "# Plot expenditure features\n",
    "fig=plt.figure(figsize=(10,10))\n",
    "for i, var_name in enumerate(exp_feats):\n",
    "    # Left plot\n",
    "    ax=fig.add_subplot(5,2,2*i+1)\n",
    "    sns.histplot(data=train, x=var_name, axes=ax, bins=30, kde=False, hue='Transported')\n",
    "    ax.set_title(var_name)\n",
    "    \n",
    "    # Right plot (truncated)\n",
    "    ax=fig.add_subplot(5,2,2*i+2)\n",
    "    sns.histplot(data=train, x=var_name, axes=ax, bins=30, kde=True, hue='Transported')\n",
    "    plt.ylim([0,100])\n",
    "    ax.set_title(var_name)\n",
    "fig.tight_layout()  # Görüntüyü iyileştiriyor.\n",
    "plt.show()"
   ]
  },
  {
   "cell_type": "markdown",
   "id": "97f0728e",
   "metadata": {
    "papermill": {
     "duration": 0.022806,
     "end_time": "2022-10-30T19:06:02.794942",
     "exception": false,
     "start_time": "2022-10-30T19:06:02.772136",
     "status": "completed"
    },
    "tags": []
   },
   "source": [
    "# Categorical features\n"
   ]
  },
  {
   "cell_type": "code",
   "execution_count": 20,
   "id": "77409f32",
   "metadata": {
    "execution": {
     "iopub.execute_input": "2022-10-30T19:06:02.838008Z",
     "iopub.status.busy": "2022-10-30T19:06:02.837603Z",
     "iopub.status.idle": "2022-10-30T19:06:03.568827Z",
     "shell.execute_reply": "2022-10-30T19:06:03.567905Z"
    },
    "papermill": {
     "duration": 0.755435,
     "end_time": "2022-10-30T19:06:03.571029",
     "exception": false,
     "start_time": "2022-10-30T19:06:02.815594",
     "status": "completed"
    },
    "tags": []
   },
   "outputs": [
    {
     "data": {
      "image/png": "[encoded data removed]",
      "text/plain": [
       "<Figure size 720x1152 with 4 Axes>"
      ]
     },
     "metadata": {
      "needs_background": "light"
     },
     "output_type": "display_data"
    }
   ],
   "source": [
    "\n",
    "# Categorical features\n",
    "cat_feats=['HomePlanet', 'CryoSleep', 'Destination', 'VIP']\n",
    "\n",
    "# Plot categorical features\n",
    "fig=plt.figure(figsize=(10,16))\n",
    "for i, var_name in enumerate(cat_feats):\n",
    "    ax=fig.add_subplot(4,1,i+1)\n",
    "    sns.countplot(data=train, x=var_name, axes=ax, hue='Transported')\n",
    "    ax.set_title(var_name)\n",
    "fig.tight_layout()  # Improves appearance a bit\n",
    "plt.show()"
   ]
  },
  {
   "cell_type": "markdown",
   "id": "7395eea8",
   "metadata": {
    "papermill": {
     "duration": 0.02115,
     "end_time": "2022-10-30T19:06:03.613708",
     "exception": false,
     "start_time": "2022-10-30T19:06:03.592558",
     "status": "completed"
    },
    "tags": []
   },
   "source": [
    "# Qualitative features\n"
   ]
  },
  {
   "cell_type": "code",
   "execution_count": 21,
   "id": "f01af15a",
   "metadata": {
    "execution": {
     "iopub.execute_input": "2022-10-30T19:06:03.658948Z",
     "iopub.status.busy": "2022-10-30T19:06:03.658531Z",
     "iopub.status.idle": "2022-10-30T19:06:03.670884Z",
     "shell.execute_reply": "2022-10-30T19:06:03.669888Z"
    },
    "papermill": {
     "duration": 0.037346,
     "end_time": "2022-10-30T19:06:03.672958",
     "exception": false,
     "start_time": "2022-10-30T19:06:03.635612",
     "status": "completed"
    },
    "tags": []
   },
   "outputs": [
    {
     "data": {
      "text/html": [
       "<div>\n",
       "<style scoped>\n",
       "    .dataframe tbody tr th:only-of-type {\n",
       "        vertical-align: middle;\n",
       "    }\n",
       "\n",
       "    .dataframe tbody tr th {\n",
       "        vertical-align: top;\n",
       "    }\n",
       "\n",
       "    .dataframe thead th {\n",
       "        text-align: right;\n",
       "    }\n",
       "</style>\n",
       "<table border=\"1\" class=\"dataframe\">\n",
       "  <thead>\n",
       "    <tr style=\"text-align: right;\">\n",
       "      <th></th>\n",
       "      <th>PassengerId</th>\n",
       "      <th>Cabin</th>\n",
       "      <th>Name</th>\n",
       "    </tr>\n",
       "  </thead>\n",
       "  <tbody>\n",
       "    <tr>\n",
       "      <th>0</th>\n",
       "      <td>0001_01</td>\n",
       "      <td>B/0/P</td>\n",
       "      <td>Maham Ofracculy</td>\n",
       "    </tr>\n",
       "    <tr>\n",
       "      <th>1</th>\n",
       "      <td>0002_01</td>\n",
       "      <td>F/0/S</td>\n",
       "      <td>Juanna Vines</td>\n",
       "    </tr>\n",
       "    <tr>\n",
       "      <th>2</th>\n",
       "      <td>0003_01</td>\n",
       "      <td>A/0/S</td>\n",
       "      <td>Altark Susent</td>\n",
       "    </tr>\n",
       "    <tr>\n",
       "      <th>3</th>\n",
       "      <td>0003_02</td>\n",
       "      <td>A/0/S</td>\n",
       "      <td>Solam Susent</td>\n",
       "    </tr>\n",
       "    <tr>\n",
       "      <th>4</th>\n",
       "      <td>0004_01</td>\n",
       "      <td>F/1/S</td>\n",
       "      <td>Willy Santantines</td>\n",
       "    </tr>\n",
       "  </tbody>\n",
       "</table>\n",
       "</div>"
      ],
      "text/plain": [
       "  PassengerId  Cabin               Name\n",
       "0     0001_01  B/0/P    Maham Ofracculy\n",
       "1     0002_01  F/0/S       Juanna Vines\n",
       "2     0003_01  A/0/S      Altark Susent\n",
       "3     0003_02  A/0/S       Solam Susent\n",
       "4     0004_01  F/1/S  Willy Santantines"
      ]
     },
     "execution_count": 21,
     "metadata": {},
     "output_type": "execute_result"
    }
   ],
   "source": [
    "# Qualitative features\n",
    "qual_feats=['PassengerId', 'Cabin' ,'Name']\n",
    "\n",
    "# Preview qualitative features\n",
    "train[qual_feats].head()"
   ]
  },
  {
   "cell_type": "code",
   "execution_count": 22,
   "id": "cd2d2491",
   "metadata": {
    "execution": {
     "iopub.execute_input": "2022-10-30T19:06:03.718548Z",
     "iopub.status.busy": "2022-10-30T19:06:03.717877Z",
     "iopub.status.idle": "2022-10-30T19:06:04.206888Z",
     "shell.execute_reply": "2022-10-30T19:06:04.205762Z"
    },
    "papermill": {
     "duration": 0.514557,
     "end_time": "2022-10-30T19:06:04.209294",
     "exception": false,
     "start_time": "2022-10-30T19:06:03.694737",
     "status": "completed"
    },
    "tags": []
   },
   "outputs": [
    {
     "data": {
      "image/png": "[encoded data removed]",
      "text/plain": [
       "<Figure size 432x288 with 2 Axes>"
      ]
     },
     "metadata": {
      "needs_background": "light"
     },
     "output_type": "display_data"
    }
   ],
   "source": [
    "# correlation matrix\n",
    "corrMatrix = train.corr()\n",
    "sns.heatmap(corrMatrix, annot=True)\n",
    "plt.show()"
   ]
  },
  {
   "cell_type": "markdown",
   "id": "ccf09202",
   "metadata": {
    "papermill": {
     "duration": 0.022417,
     "end_time": "2022-10-30T19:06:04.254693",
     "exception": false,
     "start_time": "2022-10-30T19:06:04.232276",
     "status": "completed"
    },
    "tags": []
   },
   "source": [
    "# Feature Engineering\n"
   ]
  },
  {
   "cell_type": "code",
   "execution_count": 23,
   "id": "5b438e63",
   "metadata": {
    "execution": {
     "iopub.execute_input": "2022-10-30T19:06:04.302217Z",
     "iopub.status.busy": "2022-10-30T19:06:04.301459Z",
     "iopub.status.idle": "2022-10-30T19:06:04.612503Z",
     "shell.execute_reply": "2022-10-30T19:06:04.611170Z"
    },
    "papermill": {
     "duration": 0.337676,
     "end_time": "2022-10-30T19:06:04.615113",
     "exception": false,
     "start_time": "2022-10-30T19:06:04.277437",
     "status": "completed"
    },
    "tags": []
   },
   "outputs": [
    {
     "data": {
      "text/plain": [
       "Text(0.5, 1.0, 'Age Group Distribution')"
      ]
     },
     "execution_count": 23,
     "metadata": {},
     "output_type": "execute_result"
    },
    {
     "data": {
      "image/png": "[encoded data removed]",
      "text/plain": [
       "<Figure size 720x288 with 1 Axes>"
      ]
     },
     "metadata": {
      "needs_background": "light"
     },
     "output_type": "display_data"
    }
   ],
   "source": [
    "# Yaş Grupları\n",
    "# New features - training set\n",
    "train['Age_group']=np.nan\n",
    "train.loc[train['Age']<=12,'Age_group']='Age_0-12'\n",
    "train.loc[(train['Age']>12) & (train['Age']<18),'Age_group']='Age_13-17'\n",
    "train.loc[(train['Age']>=18) & (train['Age']<=25),'Age_group']='Age_18-25'\n",
    "train.loc[(train['Age']>25) & (train['Age']<=30),'Age_group']='Age_26-30'\n",
    "train.loc[(train['Age']>30) & (train['Age']<=50),'Age_group']='Age_31-50'\n",
    "train.loc[train['Age']>50,'Age_group']='Age_51+'\n",
    "\n",
    "# New features - test set\n",
    "test['Age_group']=np.nan\n",
    "test.loc[test['Age']<=12,'Age_group']='Age_0-12'\n",
    "test.loc[(test['Age']>12) & (test['Age']<18),'Age_group']='Age_13-17'\n",
    "test.loc[(test['Age']>=18) & (test['Age']<=25),'Age_group']='Age_18-25'\n",
    "test.loc[(test['Age']>25) & (test['Age']<=30),'Age_group']='Age_26-30'\n",
    "test.loc[(test['Age']>30) & (test['Age']<=50),'Age_group']='Age_31-50'\n",
    "test.loc[test['Age']>50,'Age_group']='Age_51+'\n",
    "\n",
    "# Plot distribution of new features\n",
    "plt.figure(figsize=(10,4))\n",
    "g=sns.countplot(data=train, x='Age_group', hue='Transported', order=['Age_0-12','Age_13-17','Age_18-25','Age_26-30','Age_31-50','Age_51+'])\n",
    "plt.title('Age Group Distribution')"
   ]
  },
  {
   "cell_type": "code",
   "execution_count": 24,
   "id": "babd5224",
   "metadata": {
    "execution": {
     "iopub.execute_input": "2022-10-30T19:06:04.664155Z",
     "iopub.status.busy": "2022-10-30T19:06:04.663390Z",
     "iopub.status.idle": "2022-10-30T19:06:06.806721Z",
     "shell.execute_reply": "2022-10-30T19:06:06.805366Z"
    },
    "papermill": {
     "duration": 2.170462,
     "end_time": "2022-10-30T19:06:06.809450",
     "exception": false,
     "start_time": "2022-10-30T19:06:04.638988",
     "status": "completed"
    },
    "tags": []
   },
   "outputs": [
    {
     "data": {
      "image/png": "[encoded data removed]",
      "text/plain": [
       "<Figure size 1080x360 with 2 Axes>"
      ]
     },
     "metadata": {
      "needs_background": "light"
     },
     "output_type": "display_data"
    }
   ],
   "source": [
    "# Harcama\n",
    "# New features - training set\n",
    "train['Expenditure']=train[exp_feats].sum(axis=1)\n",
    "train['No_spending']=(train['Expenditure']==0).astype(int)\n",
    "\n",
    "# New features - test set\n",
    "test['Expenditure']=test[exp_feats].sum(axis=1)\n",
    "test['No_spending']=(test['Expenditure']==0).astype(int)\n",
    "\n",
    "# Plot distribution of new features\n",
    "fig=plt.figure(figsize=(15,5))\n",
    "plt.subplot(1,2,1)\n",
    "sns.histplot(data=train, x='Expenditure', hue='Transported', bins=250)\n",
    "plt.title('Total Expenditure (Truncated)')\n",
    "plt.ylim([0,200])\n",
    "plt.xlim([0,20000])\n",
    "\n",
    "plt.subplot(1,2,2)\n",
    "sns.countplot(data=train, x='No_spending', hue='Transported')\n",
    "plt.title('No Spending Indicator')\n",
    "fig.tight_layout()"
   ]
  },
  {
   "cell_type": "code",
   "execution_count": 25,
   "id": "254d9b96",
   "metadata": {
    "execution": {
     "iopub.execute_input": "2022-10-30T19:06:06.858416Z",
     "iopub.status.busy": "2022-10-30T19:06:06.858014Z",
     "iopub.status.idle": "2022-10-30T19:07:15.836192Z",
     "shell.execute_reply": "2022-10-30T19:07:15.834989Z"
    },
    "papermill": {
     "duration": 69.029989,
     "end_time": "2022-10-30T19:07:15.863175",
     "exception": false,
     "start_time": "2022-10-30T19:06:06.833186",
     "status": "completed"
    },
    "tags": []
   },
   "outputs": [
    {
     "data": {
      "image/png": "[encoded data removed]",
      "text/plain": [
       "<Figure size 1440x360 with 2 Axes>"
      ]
     },
     "metadata": {
      "needs_background": "light"
     },
     "output_type": "display_data"
    }
   ],
   "source": [
    "# Yolcu grupları\n",
    "# New feature - Group\n",
    "train['Group'] = train['PassengerId'].apply(lambda x: x.split('_')[0]).astype(int)\n",
    "test['Group'] = test['PassengerId'].apply(lambda x: x.split('_')[0]).astype(int)\n",
    "\n",
    "# New feature - Group size\n",
    "train['Group_size']=train['Group'].map(lambda x: pd.concat([train['Group'], test['Group']]).value_counts()[x])\n",
    "test['Group_size']=test['Group'].map(lambda x: pd.concat([train['Group'], test['Group']]).value_counts()[x])\n",
    "\n",
    "# Plot distribution of new features\n",
    "plt.figure(figsize=(20,5))\n",
    "plt.subplot(1,2,1)\n",
    "sns.histplot(data=train, x='Group', hue='Transported', binwidth=1)\n",
    "plt.title('Group')\n",
    "\n",
    "plt.subplot(1,2,2)\n",
    "sns.countplot(data=train, x='Group_size', hue='Transported')\n",
    "plt.title('Group size')\n",
    "fig.tight_layout()"
   ]
  },
  {
   "cell_type": "code",
   "execution_count": 26,
   "id": "a1e38a2a",
   "metadata": {
    "execution": {
     "iopub.execute_input": "2022-10-30T19:07:15.913776Z",
     "iopub.status.busy": "2022-10-30T19:07:15.912865Z",
     "iopub.status.idle": "2022-10-30T19:07:16.152924Z",
     "shell.execute_reply": "2022-10-30T19:07:16.151534Z"
    },
    "papermill": {
     "duration": 0.267886,
     "end_time": "2022-10-30T19:07:16.155564",
     "exception": false,
     "start_time": "2022-10-30T19:07:15.887678",
     "status": "completed"
    },
    "tags": []
   },
   "outputs": [
    {
     "data": {
      "text/plain": [
       "(0.0, 3000.0)"
      ]
     },
     "execution_count": 26,
     "metadata": {},
     "output_type": "execute_result"
    },
    {
     "data": {
      "image/png": "[encoded data removed]",
      "text/plain": [
       "<Figure size 720x288 with 1 Axes>"
      ]
     },
     "metadata": {
      "needs_background": "light"
     },
     "output_type": "display_data"
    }
   ],
   "source": [
    "# New feature\n",
    "train['Solo']=(train['Group_size']==1).astype(int)\n",
    "test['Solo']=(test['Group_size']==1).astype(int)\n",
    "\n",
    "# New feature distribution\n",
    "plt.figure(figsize=(10,4))\n",
    "sns.countplot(data=train, x='Solo', hue='Transported')\n",
    "plt.title('Passenger travelling solo or not')\n",
    "plt.ylim([0,3000])"
   ]
  },
  {
   "cell_type": "code",
   "execution_count": 27,
   "id": "4d89d2d7",
   "metadata": {
    "execution": {
     "iopub.execute_input": "2022-10-30T19:07:16.206735Z",
     "iopub.status.busy": "2022-10-30T19:07:16.206024Z",
     "iopub.status.idle": "2022-10-30T19:07:17.532283Z",
     "shell.execute_reply": "2022-10-30T19:07:17.530950Z"
    },
    "papermill": {
     "duration": 1.354774,
     "end_time": "2022-10-30T19:07:17.534960",
     "exception": false,
     "start_time": "2022-10-30T19:07:16.180186",
     "status": "completed"
    },
    "tags": []
   },
   "outputs": [
    {
     "data": {
      "image/png": "[encoded data removed]",
      "text/plain": [
       "<Figure size 720x864 with 3 Axes>"
      ]
     },
     "metadata": {
      "needs_background": "light"
     },
     "output_type": "display_data"
    }
   ],
   "source": [
    "# Kabin yerleşimi\n",
    "# Replace NaN's with outliers for now (so we can split feature)\n",
    "train['Cabin'].fillna('Z/9999/Z', inplace=True)\n",
    "test['Cabin'].fillna('Z/9999/Z', inplace=True)\n",
    "\n",
    "# New features - training set\n",
    "train['Cabin_deck'] = train['Cabin'].apply(lambda x: x.split('/')[0])\n",
    "train['Cabin_number'] = train['Cabin'].apply(lambda x: x.split('/')[1]).astype(int)\n",
    "train['Cabin_side'] = train['Cabin'].apply(lambda x: x.split('/')[2])\n",
    "\n",
    "# New features - test set\n",
    "test['Cabin_deck'] = test['Cabin'].apply(lambda x: x.split('/')[0])\n",
    "test['Cabin_number'] = test['Cabin'].apply(lambda x: x.split('/')[1]).astype(int)\n",
    "test['Cabin_side'] = test['Cabin'].apply(lambda x: x.split('/')[2])\n",
    "\n",
    "# Put Nan's back in (we will fill these later)\n",
    "train.loc[train['Cabin_deck']=='Z', 'Cabin_deck']=np.nan\n",
    "train.loc[train['Cabin_number']==9999, 'Cabin_number']=np.nan\n",
    "train.loc[train['Cabin_side']=='Z', 'Cabin_side']=np.nan\n",
    "test.loc[test['Cabin_deck']=='Z', 'Cabin_deck']=np.nan\n",
    "test.loc[test['Cabin_number']==9999, 'Cabin_number']=np.nan\n",
    "test.loc[test['Cabin_side']=='Z', 'Cabin_side']=np.nan\n",
    "\n",
    "# Drop Cabin (we don't need it anymore)\n",
    "train.drop('Cabin', axis=1, inplace=True)\n",
    "test.drop('Cabin', axis=1, inplace=True)\n",
    "\n",
    "# Plot distribution of new features\n",
    "fig=plt.figure(figsize=(10,12))\n",
    "plt.subplot(3,1,1)\n",
    "sns.countplot(data=train, x='Cabin_deck', hue='Transported', order=['A','B','C','D','E','F','G','T'])\n",
    "plt.title('Cabin deck')\n",
    "\n",
    "plt.subplot(3,1,2)\n",
    "sns.histplot(data=train, x='Cabin_number', hue='Transported',binwidth=20)\n",
    "plt.vlines(300, ymin=0, ymax=200, color='black')\n",
    "plt.vlines(600, ymin=0, ymax=200, color='black')\n",
    "plt.vlines(900, ymin=0, ymax=200, color='black')\n",
    "plt.vlines(1200, ymin=0, ymax=200, color='black')\n",
    "plt.vlines(1500, ymin=0, ymax=200, color='black')\n",
    "plt.vlines(1800, ymin=0, ymax=200, color='black')\n",
    "plt.title('Cabin number')\n",
    "plt.xlim([0,2000])\n",
    "\n",
    "plt.subplot(3,1,3)\n",
    "sns.countplot(data=train, x='Cabin_side', hue='Transported')\n",
    "plt.title('Cabin side')\n",
    "fig.tight_layout()"
   ]
  },
  {
   "cell_type": "code",
   "execution_count": 28,
   "id": "cd394ec3",
   "metadata": {
    "execution": {
     "iopub.execute_input": "2022-10-30T19:07:17.587770Z",
     "iopub.status.busy": "2022-10-30T19:07:17.587361Z",
     "iopub.status.idle": "2022-10-30T19:07:17.929983Z",
     "shell.execute_reply": "2022-10-30T19:07:17.928894Z"
    },
    "papermill": {
     "duration": 0.372215,
     "end_time": "2022-10-30T19:07:17.932866",
     "exception": false,
     "start_time": "2022-10-30T19:07:17.560651",
     "status": "completed"
    },
    "tags": []
   },
   "outputs": [
    {
     "data": {
      "image/png": "[encoded data removed]",
      "text/plain": [
       "<Figure size 720x288 with 1 Axes>"
      ]
     },
     "metadata": {
      "needs_background": "light"
     },
     "output_type": "display_data"
    }
   ],
   "source": [
    "# New features - training set\n",
    "train['Cabin_region1']=(train['Cabin_number']<300).astype(int)   # one-hot encoding\n",
    "train['Cabin_region2']=((train['Cabin_number']>=300) & (train['Cabin_number']<600)).astype(int)\n",
    "train['Cabin_region3']=((train['Cabin_number']>=600) & (train['Cabin_number']<900)).astype(int)\n",
    "train['Cabin_region4']=((train['Cabin_number']>=900) & (train['Cabin_number']<1200)).astype(int)\n",
    "train['Cabin_region5']=((train['Cabin_number']>=1200) & (train['Cabin_number']<1500)).astype(int)\n",
    "train['Cabin_region6']=((train['Cabin_number']>=1500) & (train['Cabin_number']<1800)).astype(int)\n",
    "train['Cabin_region7']=(train['Cabin_number']>=1800).astype(int)\n",
    "\n",
    "# New features - test set\n",
    "test['Cabin_region1']=(test['Cabin_number']<300).astype(int)   # one-hot encoding\n",
    "test['Cabin_region2']=((test['Cabin_number']>=300) & (test['Cabin_number']<600)).astype(int)\n",
    "test['Cabin_region3']=((test['Cabin_number']>=600) & (test['Cabin_number']<900)).astype(int)\n",
    "test['Cabin_region4']=((test['Cabin_number']>=900) & (test['Cabin_number']<1200)).astype(int)\n",
    "test['Cabin_region5']=((test['Cabin_number']>=1200) & (test['Cabin_number']<1500)).astype(int)\n",
    "test['Cabin_region6']=((test['Cabin_number']>=1500) & (test['Cabin_number']<1800)).astype(int)\n",
    "test['Cabin_region7']=(test['Cabin_number']>=1800).astype(int)\n",
    "\n",
    "# Plot distribution of new features\n",
    "plt.figure(figsize=(10,4))\n",
    "train['Cabin_regions_plot']=(train['Cabin_region1']+2*train['Cabin_region2']+\n",
    "                             3*train['Cabin_region3']+4*train['Cabin_region4']+\n",
    "                             5*train['Cabin_region5']+6*train['Cabin_region6']+\n",
    "                             7*train['Cabin_region7']).astype(int)\n",
    "sns.countplot(data=train, x='Cabin_regions_plot', hue='Transported')\n",
    "plt.title('Cabin regions')\n",
    "train.drop('Cabin_regions_plot', axis=1, inplace=True)"
   ]
  },
  {
   "cell_type": "code",
   "execution_count": 29,
   "id": "10900343",
   "metadata": {
    "execution": {
     "iopub.execute_input": "2022-10-30T19:07:17.993885Z",
     "iopub.status.busy": "2022-10-30T19:07:17.992645Z",
     "iopub.status.idle": "2022-10-30T19:07:53.085885Z",
     "shell.execute_reply": "2022-10-30T19:07:53.084664Z"
    },
    "papermill": {
     "duration": 35.129571,
     "end_time": "2022-10-30T19:07:53.088586",
     "exception": false,
     "start_time": "2022-10-30T19:07:17.959015",
     "status": "completed"
    },
    "tags": []
   },
   "outputs": [
    {
     "data": {
      "text/plain": [
       "Text(0.5, 1.0, 'Family size')"
      ]
     },
     "execution_count": 29,
     "metadata": {},
     "output_type": "execute_result"
    },
    {
     "data": {
      "image/png": "[encoded data removed]",
      "text/plain": [
       "<Figure size 864x288 with 1 Axes>"
      ]
     },
     "metadata": {
      "needs_background": "light"
     },
     "output_type": "display_data"
    }
   ],
   "source": [
    "# Last Name\n",
    "# Replace NaN's with outliers for now (so we can split feature)\n",
    "train['Name'].fillna('Unknown Unknown', inplace=True)\n",
    "test['Name'].fillna('Unknown Unknown', inplace=True)\n",
    "\n",
    "# New feature - Surname\n",
    "train['Surname']=train['Name'].str.split().str[-1]\n",
    "test['Surname']=test['Name'].str.split().str[-1]\n",
    "\n",
    "# New feature - Family size\n",
    "train['Family_size']=train['Surname'].map(lambda x: pd.concat([train['Surname'],test['Surname']]).value_counts()[x])\n",
    "test['Family_size']=test['Surname'].map(lambda x: pd.concat([train['Surname'],test['Surname']]).value_counts()[x])\n",
    "\n",
    "# Put Nan's back in (we will fill these later)\n",
    "train.loc[train['Surname']=='Unknown','Surname']=np.nan\n",
    "train.loc[train['Family_size']>100,'Family_size']=np.nan\n",
    "test.loc[test['Surname']=='Unknown','Surname']=np.nan\n",
    "test.loc[test['Family_size']>100,'Family_size']=np.nan\n",
    "\n",
    "# Drop name (we don't need it anymore)\n",
    "train.drop('Name', axis=1, inplace=True)\n",
    "test.drop('Name', axis=1, inplace=True)\n",
    "\n",
    "# New feature distribution\n",
    "plt.figure(figsize=(12,4))\n",
    "sns.countplot(data=train, x='Family_size', hue='Transported')\n",
    "plt.title('Family size')"
   ]
  },
  {
   "cell_type": "markdown",
   "id": "c117ce79",
   "metadata": {
    "papermill": {
     "duration": 0.02719,
     "end_time": "2022-10-30T19:07:53.143368",
     "exception": false,
     "start_time": "2022-10-30T19:07:53.116178",
     "status": "completed"
    },
    "tags": []
   },
   "source": [
    "# Data Pre-Processing\n"
   ]
  },
  {
   "cell_type": "code",
   "execution_count": 30,
   "id": "eb292234",
   "metadata": {
    "execution": {
     "iopub.execute_input": "2022-10-30T19:07:53.199573Z",
     "iopub.status.busy": "2022-10-30T19:07:53.198935Z",
     "iopub.status.idle": "2022-10-30T19:07:53.269361Z",
     "shell.execute_reply": "2022-10-30T19:07:53.268135Z"
    },
    "papermill": {
     "duration": 0.102446,
     "end_time": "2022-10-30T19:07:53.272350",
     "exception": false,
     "start_time": "2022-10-30T19:07:53.169904",
     "status": "completed"
    },
    "tags": []
   },
   "outputs": [],
   "source": [
    "# impute continuous variables with median\n",
    "impute_cont_cols = [\"Age\", \"FoodCourt\", \"ShoppingMall\", \"Spa\", \"VRDeck\" ,\"RoomService\", \"Family_size\"\n",
    "               , \"CryoSleep\", \"VIP\", \"Cabin_number\"]\n",
    "imputer = SimpleImputer(strategy='median')\n",
    "imputer.fit(train[impute_cont_cols])\n",
    "train[impute_cont_cols] = imputer.transform(train[impute_cont_cols])\n",
    "test[impute_cont_cols] = imputer.transform(test[impute_cont_cols])\n",
    "\n",
    "# impute categorical values with mode\n",
    "impute_cat_cols = [\"Destination\", \"Age_group\", \"Cabin_deck\", \"Cabin_side\", \"Surname\"]\n",
    "imputer_cat = SimpleImputer(strategy='most_frequent')\n",
    "imputer_cat.fit(train[impute_cat_cols])\n",
    "train[impute_cat_cols] = imputer_cat.transform(train[impute_cat_cols])\n",
    "test[impute_cat_cols] = imputer_cat.transform(test[impute_cat_cols])"
   ]
  },
  {
   "cell_type": "code",
   "execution_count": 31,
   "id": "0d43da49",
   "metadata": {
    "execution": {
     "iopub.execute_input": "2022-10-30T19:07:53.327893Z",
     "iopub.status.busy": "2022-10-30T19:07:53.327444Z",
     "iopub.status.idle": "2022-10-30T19:07:53.332735Z",
     "shell.execute_reply": "2022-10-30T19:07:53.331223Z"
    },
    "papermill": {
     "duration": 0.035715,
     "end_time": "2022-10-30T19:07:53.335404",
     "exception": false,
     "start_time": "2022-10-30T19:07:53.299689",
     "status": "completed"
    },
    "tags": []
   },
   "outputs": [],
   "source": [
    "# Preprocessing"
   ]
  },
  {
   "cell_type": "code",
   "execution_count": 32,
   "id": "8b5280a7",
   "metadata": {
    "execution": {
     "iopub.execute_input": "2022-10-30T19:07:53.390711Z",
     "iopub.status.busy": "2022-10-30T19:07:53.390164Z",
     "iopub.status.idle": "2022-10-30T19:07:53.401069Z",
     "shell.execute_reply": "2022-10-30T19:07:53.399756Z"
    },
    "papermill": {
     "duration": 0.041276,
     "end_time": "2022-10-30T19:07:53.403677",
     "exception": false,
     "start_time": "2022-10-30T19:07:53.362401",
     "status": "completed"
    },
    "tags": []
   },
   "outputs": [],
   "source": [
    "X = train.drop('Transported', axis=1).copy()\n",
    "X_test = test.copy()\n",
    "y=train['Transported'].copy().astype(int)"
   ]
  },
  {
   "cell_type": "code",
   "execution_count": 33,
   "id": "3e62337a",
   "metadata": {
    "execution": {
     "iopub.execute_input": "2022-10-30T19:07:53.458572Z",
     "iopub.status.busy": "2022-10-30T19:07:53.458189Z",
     "iopub.status.idle": "2022-10-30T19:07:53.467654Z",
     "shell.execute_reply": "2022-10-30T19:07:53.466244Z"
    },
    "papermill": {
     "duration": 0.039637,
     "end_time": "2022-10-30T19:07:53.470208",
     "exception": false,
     "start_time": "2022-10-30T19:07:53.430571",
     "status": "completed"
    },
    "tags": []
   },
   "outputs": [],
   "source": [
    "# Drop unwanted features\n",
    "\n",
    "# Drop qualitative/redundant/collinear/high cardinality features\n",
    "X.drop(['PassengerId', 'Group', 'Group_size', 'Age_group', 'Cabin_number'], axis=1, inplace=True)\n",
    "X_test.drop(['PassengerId', 'Group', 'Group_size', 'Age_group', 'Cabin_number'], axis=1, inplace=True)"
   ]
  },
  {
   "cell_type": "code",
   "execution_count": 34,
   "id": "a2e38835",
   "metadata": {
    "execution": {
     "iopub.execute_input": "2022-10-30T19:07:53.524520Z",
     "iopub.status.busy": "2022-10-30T19:07:53.524089Z",
     "iopub.status.idle": "2022-10-30T19:07:58.366350Z",
     "shell.execute_reply": "2022-10-30T19:07:58.365168Z"
    },
    "papermill": {
     "duration": 4.872611,
     "end_time": "2022-10-30T19:07:58.368860",
     "exception": false,
     "start_time": "2022-10-30T19:07:53.496249",
     "status": "completed"
    },
    "tags": []
   },
   "outputs": [
    {
     "data": {
      "image/png": "[encoded data removed]",
      "text/plain": [
       "<Figure size 864x1440 with 12 Axes>"
      ]
     },
     "metadata": {
      "needs_background": "light"
     },
     "output_type": "display_data"
    }
   ],
   "source": [
    "# Log transform\n",
    "# Plot log transform results\n",
    "fig=plt.figure(figsize=(12,20))\n",
    "for i, col in enumerate(['RoomService','FoodCourt','ShoppingMall','Spa','VRDeck','Expenditure']):\n",
    "    plt.subplot(6,2,2*i+1)\n",
    "    sns.histplot(X[col], binwidth=100)\n",
    "    plt.ylim([0,200])\n",
    "    plt.title(f'{col} (original)')\n",
    "    \n",
    "    plt.subplot(6,2,2*i+2)\n",
    "    sns.histplot(np.log(1+X[col]), color='C1')\n",
    "    plt.ylim([0,200])\n",
    "    plt.title(f'{col} (log-transform)')\n",
    "    \n",
    "fig.tight_layout()\n",
    "plt.show()"
   ]
  },
  {
   "cell_type": "code",
   "execution_count": 35,
   "id": "e988295c",
   "metadata": {
    "execution": {
     "iopub.execute_input": "2022-10-30T19:07:58.425885Z",
     "iopub.status.busy": "2022-10-30T19:07:58.425447Z",
     "iopub.status.idle": "2022-10-30T19:07:58.437451Z",
     "shell.execute_reply": "2022-10-30T19:07:58.436512Z"
    },
    "papermill": {
     "duration": 0.0431,
     "end_time": "2022-10-30T19:07:58.439837",
     "exception": false,
     "start_time": "2022-10-30T19:07:58.396737",
     "status": "completed"
    },
    "tags": []
   },
   "outputs": [],
   "source": [
    "# Apply log transform\n",
    "for col in ['RoomService','FoodCourt','ShoppingMall','Spa','VRDeck','Expenditure']:\n",
    "    X[col]=np.log(1+X[col])\n",
    "    X_test[col]=np.log(1+X_test[col])"
   ]
  },
  {
   "cell_type": "code",
   "execution_count": 36,
   "id": "699bb441",
   "metadata": {
    "execution": {
     "iopub.execute_input": "2022-10-30T19:07:58.496293Z",
     "iopub.status.busy": "2022-10-30T19:07:58.495896Z",
     "iopub.status.idle": "2022-10-30T19:07:58.500761Z",
     "shell.execute_reply": "2022-10-30T19:07:58.499631Z"
    },
    "papermill": {
     "duration": 0.036103,
     "end_time": "2022-10-30T19:07:58.503196",
     "exception": false,
     "start_time": "2022-10-30T19:07:58.467093",
     "status": "completed"
    },
    "tags": []
   },
   "outputs": [],
   "source": [
    "# Encoding and scaling"
   ]
  },
  {
   "cell_type": "code",
   "execution_count": 37,
   "id": "f2450f1c",
   "metadata": {
    "execution": {
     "iopub.execute_input": "2022-10-30T19:07:58.560048Z",
     "iopub.status.busy": "2022-10-30T19:07:58.559625Z",
     "iopub.status.idle": "2022-10-30T19:07:58.566762Z",
     "shell.execute_reply": "2022-10-30T19:07:58.565603Z"
    },
    "papermill": {
     "duration": 0.038376,
     "end_time": "2022-10-30T19:07:58.569023",
     "exception": false,
     "start_time": "2022-10-30T19:07:58.530647",
     "status": "completed"
    },
    "tags": []
   },
   "outputs": [],
   "source": [
    "\n",
    "# Indentify numerical and categorical columns\n",
    "numerical_cols = [cname for cname in X.columns if X[cname].dtype in ['int64', 'float64']]\n",
    "categorical_cols = [cname for cname in X.columns if X[cname].dtype == \"object\"]\n"
   ]
  },
  {
   "cell_type": "code",
   "execution_count": 38,
   "id": "22867565",
   "metadata": {
    "execution": {
     "iopub.execute_input": "2022-10-30T19:07:58.626398Z",
     "iopub.status.busy": "2022-10-30T19:07:58.625430Z",
     "iopub.status.idle": "2022-10-30T19:07:58.631327Z",
     "shell.execute_reply": "2022-10-30T19:07:58.630183Z"
    },
    "papermill": {
     "duration": 0.036793,
     "end_time": "2022-10-30T19:07:58.633512",
     "exception": false,
     "start_time": "2022-10-30T19:07:58.596719",
     "status": "completed"
    },
    "tags": []
   },
   "outputs": [],
   "source": [
    "\n",
    "# Scale numerical data to have mean=0 and variance=1\n",
    "numerical_transformer = Pipeline(steps=[('scaler', StandardScaler())])\n",
    "\n",
    "# One-hot encode categorical data\n",
    "categorical_transformer = Pipeline(steps=[('onehot', \n",
    "                                           OneHotEncoder(drop='if_binary', \n",
    "                                           handle_unknown='ignore',sparse=False))])"
   ]
  },
  {
   "cell_type": "code",
   "execution_count": 39,
   "id": "29980ecc",
   "metadata": {
    "execution": {
     "iopub.execute_input": "2022-10-30T19:07:58.690626Z",
     "iopub.status.busy": "2022-10-30T19:07:58.689883Z",
     "iopub.status.idle": "2022-10-30T19:07:58.695070Z",
     "shell.execute_reply": "2022-10-30T19:07:58.694030Z"
    },
    "papermill": {
     "duration": 0.036667,
     "end_time": "2022-10-30T19:07:58.697537",
     "exception": false,
     "start_time": "2022-10-30T19:07:58.660870",
     "status": "completed"
    },
    "tags": []
   },
   "outputs": [],
   "source": [
    "# Combine preprocessing\n",
    "ct = ColumnTransformer(\n",
    "    transformers=[\n",
    "        ('num', numerical_transformer, numerical_cols),\n",
    "        ('cat', categorical_transformer, categorical_cols)],\n",
    "        remainder='passthrough')"
   ]
  },
  {
   "cell_type": "code",
   "execution_count": 40,
   "id": "25e27cc6",
   "metadata": {
    "execution": {
     "iopub.execute_input": "2022-10-30T19:07:58.756704Z",
     "iopub.status.busy": "2022-10-30T19:07:58.755764Z",
     "iopub.status.idle": "2022-10-30T19:07:59.131983Z",
     "shell.execute_reply": "2022-10-30T19:07:59.130469Z"
    },
    "papermill": {
     "duration": 0.408109,
     "end_time": "2022-10-30T19:07:59.134767",
     "exception": false,
     "start_time": "2022-10-30T19:07:58.726658",
     "status": "completed"
    },
    "tags": []
   },
   "outputs": [
    {
     "name": "stdout",
     "output_type": "stream",
     "text": [
      "Training set shape: (8693, 2252)\n"
     ]
    }
   ],
   "source": [
    "# Apply preprocessing\n",
    "X = ct.fit_transform(X)\n",
    "X_test = ct.transform(X_test)\n",
    "\n",
    "# Print new shape\n",
    "print('Training set shape:', X.shape)"
   ]
  },
  {
   "cell_type": "code",
   "execution_count": 41,
   "id": "4de907bb",
   "metadata": {
    "execution": {
     "iopub.execute_input": "2022-10-30T19:07:59.194704Z",
     "iopub.status.busy": "2022-10-30T19:07:59.193909Z",
     "iopub.status.idle": "2022-10-30T19:07:59.268720Z",
     "shell.execute_reply": "2022-10-30T19:07:59.267523Z"
    },
    "papermill": {
     "duration": 0.107964,
     "end_time": "2022-10-30T19:07:59.271414",
     "exception": false,
     "start_time": "2022-10-30T19:07:59.163450",
     "status": "completed"
    },
    "tags": []
   },
   "outputs": [],
   "source": [
    "# # Create a validation set\n",
    "\n",
    "# Train-validation split\n",
    "X_train, X_valid, y_train, y_valid = train_test_split(X,y,stratify=y,train_size=0.8,test_size=0.2,random_state=0)"
   ]
  },
  {
   "cell_type": "code",
   "execution_count": 42,
   "id": "a652dfbf",
   "metadata": {
    "execution": {
     "iopub.execute_input": "2022-10-30T19:07:59.329445Z",
     "iopub.status.busy": "2022-10-30T19:07:59.329023Z",
     "iopub.status.idle": "2022-10-30T19:07:59.333791Z",
     "shell.execute_reply": "2022-10-30T19:07:59.332670Z"
    },
    "papermill": {
     "duration": 0.03708,
     "end_time": "2022-10-30T19:07:59.336062",
     "exception": false,
     "start_time": "2022-10-30T19:07:59.298982",
     "status": "completed"
    },
    "tags": []
   },
   "outputs": [],
   "source": [
    "# Lazy Predict: tüm scikit learn modellerini dener ama hiperparametre optimizasyonu yaptırmaz."
   ]
  },
  {
   "cell_type": "code",
   "execution_count": 43,
   "id": "b546c8ad",
   "metadata": {
    "execution": {
     "iopub.execute_input": "2022-10-30T19:07:59.392756Z",
     "iopub.status.busy": "2022-10-30T19:07:59.392349Z",
     "iopub.status.idle": "2022-10-30T19:18:05.768298Z",
     "shell.execute_reply": "2022-10-30T19:18:05.767229Z"
    },
    "papermill": {
     "duration": 606.431676,
     "end_time": "2022-10-30T19:18:05.795276",
     "exception": false,
     "start_time": "2022-10-30T19:07:59.363600",
     "status": "completed"
    },
    "tags": []
   },
   "outputs": [
    {
     "name": "stderr",
     "output_type": "stream",
     "text": [
      "100%|██████████| 29/29 [10:06<00:00, 20.91s/it]\n"
     ]
    }
   ],
   "source": [
    "clf = LazyClassifier(verbose=0,\n",
    "                     ignore_warnings=True,\n",
    "                     custom_metric=None,\n",
    "                     predictions=False,\n",
    "                     random_state=12,\n",
    "                     classifiers='all')\n",
    "\n",
    "models, predictions = clf.fit(X_train , X_valid , y_train , y_valid)"
   ]
  },
  {
   "cell_type": "code",
   "execution_count": 44,
   "id": "78097421",
   "metadata": {
    "execution": {
     "iopub.execute_input": "2022-10-30T19:18:05.858480Z",
     "iopub.status.busy": "2022-10-30T19:18:05.857880Z",
     "iopub.status.idle": "2022-10-30T19:18:05.872050Z",
     "shell.execute_reply": "2022-10-30T19:18:05.870570Z"
    },
    "papermill": {
     "duration": 0.049127,
     "end_time": "2022-10-30T19:18:05.874937",
     "exception": false,
     "start_time": "2022-10-30T19:18:05.825810",
     "status": "completed"
    },
    "tags": []
   },
   "outputs": [
    {
     "data": {
      "text/html": [
       "<div>\n",
       "<style scoped>\n",
       "    .dataframe tbody tr th:only-of-type {\n",
       "        vertical-align: middle;\n",
       "    }\n",
       "\n",
       "    .dataframe tbody tr th {\n",
       "        vertical-align: top;\n",
       "    }\n",
       "\n",
       "    .dataframe thead th {\n",
       "        text-align: right;\n",
       "    }\n",
       "</style>\n",
       "<table border=\"1\" class=\"dataframe\">\n",
       "  <thead>\n",
       "    <tr style=\"text-align: right;\">\n",
       "      <th></th>\n",
       "      <th>Accuracy</th>\n",
       "      <th>Balanced Accuracy</th>\n",
       "      <th>ROC AUC</th>\n",
       "      <th>F1 Score</th>\n",
       "      <th>Time Taken</th>\n",
       "    </tr>\n",
       "    <tr>\n",
       "      <th>Model</th>\n",
       "      <th></th>\n",
       "      <th></th>\n",
       "      <th></th>\n",
       "      <th></th>\n",
       "      <th></th>\n",
       "    </tr>\n",
       "  </thead>\n",
       "  <tbody>\n",
       "    <tr>\n",
       "      <th>LGBMClassifier</th>\n",
       "      <td>0.81</td>\n",
       "      <td>0.81</td>\n",
       "      <td>0.81</td>\n",
       "      <td>0.81</td>\n",
       "      <td>1.72</td>\n",
       "    </tr>\n",
       "    <tr>\n",
       "      <th>XGBClassifier</th>\n",
       "      <td>0.80</td>\n",
       "      <td>0.80</td>\n",
       "      <td>0.80</td>\n",
       "      <td>0.80</td>\n",
       "      <td>29.11</td>\n",
       "    </tr>\n",
       "    <tr>\n",
       "      <th>AdaBoostClassifier</th>\n",
       "      <td>0.79</td>\n",
       "      <td>0.79</td>\n",
       "      <td>0.79</td>\n",
       "      <td>0.79</td>\n",
       "      <td>14.59</td>\n",
       "    </tr>\n",
       "    <tr>\n",
       "      <th>RandomForestClassifier</th>\n",
       "      <td>0.78</td>\n",
       "      <td>0.78</td>\n",
       "      <td>0.78</td>\n",
       "      <td>0.78</td>\n",
       "      <td>7.08</td>\n",
       "    </tr>\n",
       "    <tr>\n",
       "      <th>ExtraTreesClassifier</th>\n",
       "      <td>0.77</td>\n",
       "      <td>0.77</td>\n",
       "      <td>0.77</td>\n",
       "      <td>0.77</td>\n",
       "      <td>11.01</td>\n",
       "    </tr>\n",
       "    <tr>\n",
       "      <th>BaggingClassifier</th>\n",
       "      <td>0.77</td>\n",
       "      <td>0.77</td>\n",
       "      <td>0.77</td>\n",
       "      <td>0.77</td>\n",
       "      <td>6.52</td>\n",
       "    </tr>\n",
       "    <tr>\n",
       "      <th>DecisionTreeClassifier</th>\n",
       "      <td>0.75</td>\n",
       "      <td>0.75</td>\n",
       "      <td>0.75</td>\n",
       "      <td>0.75</td>\n",
       "      <td>1.72</td>\n",
       "    </tr>\n",
       "    <tr>\n",
       "      <th>NearestCentroid</th>\n",
       "      <td>0.74</td>\n",
       "      <td>0.74</td>\n",
       "      <td>0.74</td>\n",
       "      <td>0.74</td>\n",
       "      <td>0.88</td>\n",
       "    </tr>\n",
       "    <tr>\n",
       "      <th>BernoulliNB</th>\n",
       "      <td>0.73</td>\n",
       "      <td>0.73</td>\n",
       "      <td>0.73</td>\n",
       "      <td>0.73</td>\n",
       "      <td>1.01</td>\n",
       "    </tr>\n",
       "    <tr>\n",
       "      <th>CalibratedClassifierCV</th>\n",
       "      <td>0.73</td>\n",
       "      <td>0.73</td>\n",
       "      <td>0.73</td>\n",
       "      <td>0.73</td>\n",
       "      <td>219.03</td>\n",
       "    </tr>\n",
       "    <tr>\n",
       "      <th>RidgeClassifier</th>\n",
       "      <td>0.72</td>\n",
       "      <td>0.72</td>\n",
       "      <td>0.72</td>\n",
       "      <td>0.72</td>\n",
       "      <td>2.05</td>\n",
       "    </tr>\n",
       "    <tr>\n",
       "      <th>ExtraTreeClassifier</th>\n",
       "      <td>0.71</td>\n",
       "      <td>0.71</td>\n",
       "      <td>0.71</td>\n",
       "      <td>0.71</td>\n",
       "      <td>0.90</td>\n",
       "    </tr>\n",
       "    <tr>\n",
       "      <th>LinearSVC</th>\n",
       "      <td>0.71</td>\n",
       "      <td>0.71</td>\n",
       "      <td>0.71</td>\n",
       "      <td>0.71</td>\n",
       "      <td>56.53</td>\n",
       "    </tr>\n",
       "    <tr>\n",
       "      <th>Perceptron</th>\n",
       "      <td>0.70</td>\n",
       "      <td>0.70</td>\n",
       "      <td>0.70</td>\n",
       "      <td>0.70</td>\n",
       "      <td>1.13</td>\n",
       "    </tr>\n",
       "    <tr>\n",
       "      <th>SGDClassifier</th>\n",
       "      <td>0.69</td>\n",
       "      <td>0.69</td>\n",
       "      <td>0.69</td>\n",
       "      <td>0.69</td>\n",
       "      <td>7.85</td>\n",
       "    </tr>\n",
       "    <tr>\n",
       "      <th>NuSVC</th>\n",
       "      <td>0.69</td>\n",
       "      <td>0.69</td>\n",
       "      <td>0.69</td>\n",
       "      <td>0.69</td>\n",
       "      <td>93.88</td>\n",
       "    </tr>\n",
       "    <tr>\n",
       "      <th>LogisticRegression</th>\n",
       "      <td>0.68</td>\n",
       "      <td>0.68</td>\n",
       "      <td>0.68</td>\n",
       "      <td>0.68</td>\n",
       "      <td>2.17</td>\n",
       "    </tr>\n",
       "    <tr>\n",
       "      <th>PassiveAggressiveClassifier</th>\n",
       "      <td>0.67</td>\n",
       "      <td>0.67</td>\n",
       "      <td>0.67</td>\n",
       "      <td>0.67</td>\n",
       "      <td>2.16</td>\n",
       "    </tr>\n",
       "    <tr>\n",
       "      <th>SVC</th>\n",
       "      <td>0.66</td>\n",
       "      <td>0.66</td>\n",
       "      <td>0.66</td>\n",
       "      <td>0.66</td>\n",
       "      <td>91.47</td>\n",
       "    </tr>\n",
       "    <tr>\n",
       "      <th>KNeighborsClassifier</th>\n",
       "      <td>0.64</td>\n",
       "      <td>0.64</td>\n",
       "      <td>0.64</td>\n",
       "      <td>0.64</td>\n",
       "      <td>2.07</td>\n",
       "    </tr>\n",
       "    <tr>\n",
       "      <th>LabelPropagation</th>\n",
       "      <td>0.59</td>\n",
       "      <td>0.59</td>\n",
       "      <td>0.59</td>\n",
       "      <td>0.57</td>\n",
       "      <td>5.26</td>\n",
       "    </tr>\n",
       "    <tr>\n",
       "      <th>LabelSpreading</th>\n",
       "      <td>0.59</td>\n",
       "      <td>0.59</td>\n",
       "      <td>0.59</td>\n",
       "      <td>0.57</td>\n",
       "      <td>6.33</td>\n",
       "    </tr>\n",
       "    <tr>\n",
       "      <th>QuadraticDiscriminantAnalysis</th>\n",
       "      <td>0.53</td>\n",
       "      <td>0.53</td>\n",
       "      <td>0.53</td>\n",
       "      <td>0.50</td>\n",
       "      <td>18.30</td>\n",
       "    </tr>\n",
       "    <tr>\n",
       "      <th>GaussianNB</th>\n",
       "      <td>0.52</td>\n",
       "      <td>0.52</td>\n",
       "      <td>0.52</td>\n",
       "      <td>0.50</td>\n",
       "      <td>1.06</td>\n",
       "    </tr>\n",
       "    <tr>\n",
       "      <th>DummyClassifier</th>\n",
       "      <td>0.50</td>\n",
       "      <td>0.50</td>\n",
       "      <td>0.50</td>\n",
       "      <td>0.34</td>\n",
       "      <td>0.74</td>\n",
       "    </tr>\n",
       "  </tbody>\n",
       "</table>\n",
       "</div>"
      ],
      "text/plain": [
       "                               Accuracy  Balanced Accuracy  ROC AUC  F1 Score  \\\n",
       "Model                                                                           \n",
       "LGBMClassifier                     0.81               0.81     0.81      0.81   \n",
       "XGBClassifier                      0.80               0.80     0.80      0.80   \n",
       "AdaBoostClassifier                 0.79               0.79     0.79      0.79   \n",
       "RandomForestClassifier             0.78               0.78     0.78      0.78   \n",
       "ExtraTreesClassifier               0.77               0.77     0.77      0.77   \n",
       "BaggingClassifier                  0.77               0.77     0.77      0.77   \n",
       "DecisionTreeClassifier             0.75               0.75     0.75      0.75   \n",
       "NearestCentroid                    0.74               0.74     0.74      0.74   \n",
       "BernoulliNB                        0.73               0.73     0.73      0.73   \n",
       "CalibratedClassifierCV             0.73               0.73     0.73      0.73   \n",
       "RidgeClassifier                    0.72               0.72     0.72      0.72   \n",
       "ExtraTreeClassifier                0.71               0.71     0.71      0.71   \n",
       "LinearSVC                          0.71               0.71     0.71      0.71   \n",
       "Perceptron                         0.70               0.70     0.70      0.70   \n",
       "SGDClassifier                      0.69               0.69     0.69      0.69   \n",
       "NuSVC                              0.69               0.69     0.69      0.69   \n",
       "LogisticRegression                 0.68               0.68     0.68      0.68   \n",
       "PassiveAggressiveClassifier        0.67               0.67     0.67      0.67   \n",
       "SVC                                0.66               0.66     0.66      0.66   \n",
       "KNeighborsClassifier               0.64               0.64     0.64      0.64   \n",
       "LabelPropagation                   0.59               0.59     0.59      0.57   \n",
       "LabelSpreading                     0.59               0.59     0.59      0.57   \n",
       "QuadraticDiscriminantAnalysis      0.53               0.53     0.53      0.50   \n",
       "GaussianNB                         0.52               0.52     0.52      0.50   \n",
       "DummyClassifier                    0.50               0.50     0.50      0.34   \n",
       "\n",
       "                               Time Taken  \n",
       "Model                                      \n",
       "LGBMClassifier                       1.72  \n",
       "XGBClassifier                       29.11  \n",
       "AdaBoostClassifier                  14.59  \n",
       "RandomForestClassifier               7.08  \n",
       "ExtraTreesClassifier                11.01  \n",
       "BaggingClassifier                    6.52  \n",
       "DecisionTreeClassifier               1.72  \n",
       "NearestCentroid                      0.88  \n",
       "BernoulliNB                          1.01  \n",
       "CalibratedClassifierCV             219.03  \n",
       "RidgeClassifier                      2.05  \n",
       "ExtraTreeClassifier                  0.90  \n",
       "LinearSVC                           56.53  \n",
       "Perceptron                           1.13  \n",
       "SGDClassifier                        7.85  \n",
       "NuSVC                               93.88  \n",
       "LogisticRegression                   2.17  \n",
       "PassiveAggressiveClassifier          2.16  \n",
       "SVC                                 91.47  \n",
       "KNeighborsClassifier                 2.07  \n",
       "LabelPropagation                     5.26  \n",
       "LabelSpreading                       6.33  \n",
       "QuadraticDiscriminantAnalysis       18.30  \n",
       "GaussianNB                           1.06  \n",
       "DummyClassifier                      0.74  "
      ]
     },
     "execution_count": 44,
     "metadata": {},
     "output_type": "execute_result"
    }
   ],
   "source": [
    "models"
   ]
  },
  {
   "cell_type": "code",
   "execution_count": 45,
   "id": "f000c2c8",
   "metadata": {
    "execution": {
     "iopub.execute_input": "2022-10-30T19:18:05.939956Z",
     "iopub.status.busy": "2022-10-30T19:18:05.939511Z",
     "iopub.status.idle": "2022-10-30T19:18:08.805862Z",
     "shell.execute_reply": "2022-10-30T19:18:08.804820Z"
    },
    "papermill": {
     "duration": 2.901659,
     "end_time": "2022-10-30T19:18:08.808486",
     "exception": false,
     "start_time": "2022-10-30T19:18:05.906827",
     "status": "completed"
    },
    "tags": []
   },
   "outputs": [
    {
     "data": {
      "text/html": [
       "        <script type=\"text/javascript\">\n",
       "        window.PlotlyConfig = {MathJaxConfig: 'local'};\n",
       "        if (window.MathJax && window.MathJax.Hub && window.MathJax.Hub.Config) {window.MathJax.Hub.Config({SVG: {font: \"STIX-Web\"}});}\n",
       "        if (typeof require !== 'undefined') {\n",
       "        require.undef(\"plotly\");\n",
       "        requirejs.config({\n",
       "            paths: {\n",
       "                'plotly': ['https://cdn.plot.ly/plotly-2.14.0.min']\n",
       "            }\n",
       "        });\n",
       "        require(['plotly'], function(Plotly) {\n",
       "            window._Plotly = Plotly;\n",
       "        });\n",
       "        }\n",
       "        </script>\n",
       "        "
      ]
     },
     "metadata": {},
     "output_type": "display_data"
    },
    {
     "data": {
      "text/html": [
       "<div>                            <div id=\"40d98c6b-e1ed-4a9d-9f10-12258180eda1\" class=\"plotly-graph-div\" style=\"height:525px; width:100%;\"></div>            <script type=\"text/javascript\">                require([\"plotly\"], function(Plotly) {                    window.PLOTLYENV=window.PLOTLYENV || {};                                    if (document.getElementById(\"40d98c6b-e1ed-4a9d-9f10-12258180eda1\")) {                    Plotly.newPlot(                        \"40d98c6b-e1ed-4a9d-9f10-12258180eda1\",                        [{\"hovertemplate\":\"variable=Accuracy<br>Model=%{x}<br>value=%{y}<extra></extra>\",\"legendgroup\":\"Accuracy\",\"line\":{\"color\":\"red\",\"dash\":\"solid\"},\"marker\":{\"symbol\":\"circle\"},\"mode\":\"lines+markers\",\"name\":\"Accuracy\",\"orientation\":\"v\",\"showlegend\":true,\"x\":[\"LGBMClassifier\",\"XGBClassifier\",\"AdaBoostClassifier\",\"RandomForestClassifier\",\"ExtraTreesClassifier\",\"BaggingClassifier\",\"DecisionTreeClassifier\",\"NearestCentroid\",\"BernoulliNB\",\"CalibratedClassifierCV\",\"RidgeClassifier\",\"ExtraTreeClassifier\",\"LinearSVC\",\"Perceptron\",\"SGDClassifier\",\"NuSVC\",\"LogisticRegression\",\"PassiveAggressiveClassifier\",\"SVC\",\"KNeighborsClassifier\",\"LabelPropagation\",\"LabelSpreading\",\"QuadraticDiscriminantAnalysis\",\"GaussianNB\",\"DummyClassifier\"],\"xaxis\":\"x\",\"y\":[0.8056354226566993,0.7998849913743531,0.7883841288096607,0.7791834387579069,0.7717078780908568,0.7717078780908568,0.7521564117308798,0.738355376653249,0.7331799884991375,0.7268545140885566,0.7239792984473835,0.7130534790109259,0.7078780908568143,0.6998274870615296,0.6906267970097757,0.6854514088556641,0.6814261069580219,0.6716503737780334,0.6647498562392179,0.640598044853364,0.5894192064404831,0.5894192064404831,0.5330649798734906,0.5215641173087981,0.503737780333525],\"yaxis\":\"y\",\"type\":\"scatter\"}],                        {\"template\":{\"data\":{\"histogram2dcontour\":[{\"type\":\"histogram2dcontour\",\"colorbar\":{\"outlinewidth\":0,\"ticks\":\"\"},\"colorscale\":[[0.0,\"#0d0887\"],[0.1111111111111111,\"#46039f\"],[0.2222222222222222,\"#7201a8\"],[0.3333333333333333,\"#9c179e\"],[0.4444444444444444,\"#bd3786\"],[0.5555555555555556,\"#d8576b\"],[0.6666666666666666,\"#ed7953\"],[0.7777777777777778,\"#fb9f3a\"],[0.8888888888888888,\"#fdca26\"],[1.0,\"#f0f921\"]]}],\"choropleth\":[{\"type\":\"choropleth\",\"colorbar\":{\"outlinewidth\":0,\"ticks\":\"\"}}],\"histogram2d\":[{\"type\":\"histogram2d\",\"colorbar\":{\"outlinewidth\":0,\"ticks\":\"\"},\"colorscale\":[[0.0,\"#0d0887\"],[0.1111111111111111,\"#46039f\"],[0.2222222222222222,\"#7201a8\"],[0.3333333333333333,\"#9c179e\"],[0.4444444444444444,\"#bd3786\"],[0.5555555555555556,\"#d8576b\"],[0.6666666666666666,\"#ed7953\"],[0.7777777777777778,\"#fb9f3a\"],[0.8888888888888888,\"#fdca26\"],[1.0,\"#f0f921\"]]}],\"heatmap\":[{\"type\":\"heatmap\",\"colorbar\":{\"outlinewidth\":0,\"ticks\":\"\"},\"colorscale\":[[0.0,\"#0d0887\"],[0.1111111111111111,\"#46039f\"],[0.2222222222222222,\"#7201a8\"],[0.3333333333333333,\"#9c179e\"],[0.4444444444444444,\"#bd3786\"],[0.5555555555555556,\"#d8576b\"],[0.6666666666666666,\"#ed7953\"],[0.7777777777777778,\"#fb9f3a\"],[0.8888888888888888,\"#fdca26\"],[1.0,\"#f0f921\"]]}],\"heatmapgl\":[{\"type\":\"heatmapgl\",\"colorbar\":{\"outlinewidth\":0,\"ticks\":\"\"},\"colorscale\":[[0.0,\"#0d0887\"],[0.1111111111111111,\"#46039f\"],[0.2222222222222222,\"#7201a8\"],[0.3333333333333333,\"#9c179e\"],[0.4444444444444444,\"#bd3786\"],[0.5555555555555556,\"#d8576b\"],[0.6666666666666666,\"#ed7953\"],[0.7777777777777778,\"#fb9f3a\"],[0.8888888888888888,\"#fdca26\"],[1.0,\"#f0f921\"]]}],\"contourcarpet\":[{\"type\":\"contourcarpet\",\"colorbar\":{\"outlinewidth\":0,\"ticks\":\"\"}}],\"contour\":[{\"type\":\"contour\",\"colorbar\":{\"outlinewidth\":0,\"ticks\":\"\"},\"colorscale\":[[0.0,\"#0d0887\"],[0.1111111111111111,\"#46039f\"],[0.2222222222222222,\"#7201a8\"],[0.3333333333333333,\"#9c179e\"],[0.4444444444444444,\"#bd3786\"],[0.5555555555555556,\"#d8576b\"],[0.6666666666666666,\"#ed7953\"],[0.7777777777777778,\"#fb9f3a\"],[0.8888888888888888,\"#fdca26\"],[1.0,\"#f0f921\"]]}],\"surface\":[{\"type\":\"surface\",\"colorbar\":{\"outlinewidth\":0,\"ticks\":\"\"},\"colorscale\":[[0.0,\"#0d0887\"],[0.1111111111111111,\"#46039f\"],[0.2222222222222222,\"#7201a8\"],[0.3333333333333333,\"#9c179e\"],[0.4444444444444444,\"#bd3786\"],[0.5555555555555556,\"#d8576b\"],[0.6666666666666666,\"#ed7953\"],[0.7777777777777778,\"#fb9f3a\"],[0.8888888888888888,\"#fdca26\"],[1.0,\"#f0f921\"]]}],\"mesh3d\":[{\"type\":\"mesh3d\",\"colorbar\":{\"outlinewidth\":0,\"ticks\":\"\"}}],\"scatter\":[{\"fillpattern\":{\"fillmode\":\"overlay\",\"size\":10,\"solidity\":0.2},\"type\":\"scatter\"}],\"parcoords\":[{\"type\":\"parcoords\",\"line\":{\"colorbar\":{\"outlinewidth\":0,\"ticks\":\"\"}}}],\"scatterpolargl\":[{\"type\":\"scatterpolargl\",\"marker\":{\"colorbar\":{\"outlinewidth\":0,\"ticks\":\"\"}}}],\"bar\":[{\"error_x\":{\"color\":\"#2a3f5f\"},\"error_y\":{\"color\":\"#2a3f5f\"},\"marker\":{\"line\":{\"color\":\"#E5ECF6\",\"width\":0.5},\"pattern\":{\"fillmode\":\"overlay\",\"size\":10,\"solidity\":0.2}},\"type\":\"bar\"}],\"scattergeo\":[{\"type\":\"scattergeo\",\"marker\":{\"colorbar\":{\"outlinewidth\":0,\"ticks\":\"\"}}}],\"scatterpolar\":[{\"type\":\"scatterpolar\",\"marker\":{\"colorbar\":{\"outlinewidth\":0,\"ticks\":\"\"}}}],\"histogram\":[{\"marker\":{\"pattern\":{\"fillmode\":\"overlay\",\"size\":10,\"solidity\":0.2}},\"type\":\"histogram\"}],\"scattergl\":[{\"type\":\"scattergl\",\"marker\":{\"colorbar\":{\"outlinewidth\":0,\"ticks\":\"\"}}}],\"scatter3d\":[{\"type\":\"scatter3d\",\"line\":{\"colorbar\":{\"outlinewidth\":0,\"ticks\":\"\"}},\"marker\":{\"colorbar\":{\"outlinewidth\":0,\"ticks\":\"\"}}}],\"scattermapbox\":[{\"type\":\"scattermapbox\",\"marker\":{\"colorbar\":{\"outlinewidth\":0,\"ticks\":\"\"}}}],\"scatterternary\":[{\"type\":\"scatterternary\",\"marker\":{\"colorbar\":{\"outlinewidth\":0,\"ticks\":\"\"}}}],\"scattercarpet\":[{\"type\":\"scattercarpet\",\"marker\":{\"colorbar\":{\"outlinewidth\":0,\"ticks\":\"\"}}}],\"carpet\":[{\"aaxis\":{\"endlinecolor\":\"#2a3f5f\",\"gridcolor\":\"white\",\"linecolor\":\"white\",\"minorgridcolor\":\"white\",\"startlinecolor\":\"#2a3f5f\"},\"baxis\":{\"endlinecolor\":\"#2a3f5f\",\"gridcolor\":\"white\",\"linecolor\":\"white\",\"minorgridcolor\":\"white\",\"startlinecolor\":\"#2a3f5f\"},\"type\":\"carpet\"}],\"table\":[{\"cells\":{\"fill\":{\"color\":\"#EBF0F8\"},\"line\":{\"color\":\"white\"}},\"header\":{\"fill\":{\"color\":\"#C8D4E3\"},\"line\":{\"color\":\"white\"}},\"type\":\"table\"}],\"barpolar\":[{\"marker\":{\"line\":{\"color\":\"#E5ECF6\",\"width\":0.5},\"pattern\":{\"fillmode\":\"overlay\",\"size\":10,\"solidity\":0.2}},\"type\":\"barpolar\"}],\"pie\":[{\"automargin\":true,\"type\":\"pie\"}]},\"layout\":{\"autotypenumbers\":\"strict\",\"colorway\":[\"#636efa\",\"#EF553B\",\"#00cc96\",\"#ab63fa\",\"#FFA15A\",\"#19d3f3\",\"#FF6692\",\"#B6E880\",\"#FF97FF\",\"#FECB52\"],\"font\":{\"color\":\"#2a3f5f\"},\"hovermode\":\"closest\",\"hoverlabel\":{\"align\":\"left\"},\"paper_bgcolor\":\"white\",\"plot_bgcolor\":\"#E5ECF6\",\"polar\":{\"bgcolor\":\"#E5ECF6\",\"angularaxis\":{\"gridcolor\":\"white\",\"linecolor\":\"white\",\"ticks\":\"\"},\"radialaxis\":{\"gridcolor\":\"white\",\"linecolor\":\"white\",\"ticks\":\"\"}},\"ternary\":{\"bgcolor\":\"#E5ECF6\",\"aaxis\":{\"gridcolor\":\"white\",\"linecolor\":\"white\",\"ticks\":\"\"},\"baxis\":{\"gridcolor\":\"white\",\"linecolor\":\"white\",\"ticks\":\"\"},\"caxis\":{\"gridcolor\":\"white\",\"linecolor\":\"white\",\"ticks\":\"\"}},\"coloraxis\":{\"colorbar\":{\"outlinewidth\":0,\"ticks\":\"\"}},\"colorscale\":{\"sequential\":[[0.0,\"#0d0887\"],[0.1111111111111111,\"#46039f\"],[0.2222222222222222,\"#7201a8\"],[0.3333333333333333,\"#9c179e\"],[0.4444444444444444,\"#bd3786\"],[0.5555555555555556,\"#d8576b\"],[0.6666666666666666,\"#ed7953\"],[0.7777777777777778,\"#fb9f3a\"],[0.8888888888888888,\"#fdca26\"],[1.0,\"#f0f921\"]],\"sequentialminus\":[[0.0,\"#0d0887\"],[0.1111111111111111,\"#46039f\"],[0.2222222222222222,\"#7201a8\"],[0.3333333333333333,\"#9c179e\"],[0.4444444444444444,\"#bd3786\"],[0.5555555555555556,\"#d8576b\"],[0.6666666666666666,\"#ed7953\"],[0.7777777777777778,\"#fb9f3a\"],[0.8888888888888888,\"#fdca26\"],[1.0,\"#f0f921\"]],\"diverging\":[[0,\"#8e0152\"],[0.1,\"#c51b7d\"],[0.2,\"#de77ae\"],[0.3,\"#f1b6da\"],[0.4,\"#fde0ef\"],[0.5,\"#f7f7f7\"],[0.6,\"#e6f5d0\"],[0.7,\"#b8e186\"],[0.8,\"#7fbc41\"],[0.9,\"#4d9221\"],[1,\"#276419\"]]},\"xaxis\":{\"gridcolor\":\"white\",\"linecolor\":\"white\",\"ticks\":\"\",\"title\":{\"standoff\":15},\"zerolinecolor\":\"white\",\"automargin\":true,\"zerolinewidth\":2},\"yaxis\":{\"gridcolor\":\"white\",\"linecolor\":\"white\",\"ticks\":\"\",\"title\":{\"standoff\":15},\"zerolinecolor\":\"white\",\"automargin\":true,\"zerolinewidth\":2},\"scene\":{\"xaxis\":{\"backgroundcolor\":\"#E5ECF6\",\"gridcolor\":\"white\",\"linecolor\":\"white\",\"showbackground\":true,\"ticks\":\"\",\"zerolinecolor\":\"white\",\"gridwidth\":2},\"yaxis\":{\"backgroundcolor\":\"#E5ECF6\",\"gridcolor\":\"white\",\"linecolor\":\"white\",\"showbackground\":true,\"ticks\":\"\",\"zerolinecolor\":\"white\",\"gridwidth\":2},\"zaxis\":{\"backgroundcolor\":\"#E5ECF6\",\"gridcolor\":\"white\",\"linecolor\":\"white\",\"showbackground\":true,\"ticks\":\"\",\"zerolinecolor\":\"white\",\"gridwidth\":2}},\"shapedefaults\":{\"line\":{\"color\":\"#2a3f5f\"}},\"annotationdefaults\":{\"arrowcolor\":\"#2a3f5f\",\"arrowhead\":0,\"arrowwidth\":1},\"geo\":{\"bgcolor\":\"white\",\"landcolor\":\"#E5ECF6\",\"subunitcolor\":\"white\",\"showland\":true,\"showlakes\":true,\"lakecolor\":\"white\"},\"title\":{\"x\":0.05},\"mapbox\":{\"style\":\"light\"}}},\"xaxis\":{\"anchor\":\"y\",\"domain\":[0.0,1.0],\"title\":{\"text\":\"Model\"},\"rangeslider\":{\"visible\":false}},\"yaxis\":{\"anchor\":\"x\",\"domain\":[0.0,1.0],\"title\":{\"text\":\"Accuracy\"}},\"legend\":{\"title\":{\"text\":\"variable\"},\"tracegroupgap\":0},\"margin\":{\"t\":60},\"title\":{\"text\":\"Model Accuracy\",\"y\":0.94,\"x\":0.5,\"xanchor\":\"center\",\"yanchor\":\"top\"},\"showlegend\":true},                        {\"responsive\": true}                    ).then(function(){\n",
       "                            \n",
       "var gd = document.getElementById('40d98c6b-e1ed-4a9d-9f10-12258180eda1');\n",
       "var x = new MutationObserver(function (mutations, observer) {{\n",
       "        var display = window.getComputedStyle(gd).display;\n",
       "        if (!display || display === 'none') {{\n",
       "            console.log([gd, 'removed!']);\n",
       "            Plotly.purge(gd);\n",
       "            observer.disconnect();\n",
       "        }}\n",
       "}});\n",
       "\n",
       "// Listen for the removal of the full notebook cells\n",
       "var notebookContainer = gd.closest('#notebook-container');\n",
       "if (notebookContainer) {{\n",
       "    x.observe(notebookContainer, {childList: true});\n",
       "}}\n",
       "\n",
       "// Listen for the clearing of the current output cell\n",
       "var outputEl = gd.closest('.output');\n",
       "if (outputEl) {{\n",
       "    x.observe(outputEl, {childList: true});\n",
       "}}\n",
       "\n",
       "                        })                };                });            </script>        </div>"
      ]
     },
     "metadata": {},
     "output_type": "display_data"
    }
   ],
   "source": [
    "# Visualizing Results \n",
    "# Accuracy\n",
    "line = px.line(data_frame= models ,y =[\"Accuracy\"] , markers = True)\n",
    "line.update_xaxes(title=\"Model\",\n",
    "              rangeslider_visible = False)\n",
    "line.update_yaxes(title = \"Accuracy\")\n",
    "line.update_traces(line_color=\"red\")\n",
    "line.update_layout(showlegend = True,\n",
    "    title = {\n",
    "        'text': 'Model Accuracy',\n",
    "        'y':0.94,\n",
    "        'x':0.5,\n",
    "        'xanchor': 'center',\n",
    "        'yanchor': 'top'})\n",
    "\n",
    "line.show()"
   ]
  },
  {
   "cell_type": "code",
   "execution_count": 46,
   "id": "d5ba1c4d",
   "metadata": {
    "execution": {
     "iopub.execute_input": "2022-10-30T19:18:08.871733Z",
     "iopub.status.busy": "2022-10-30T19:18:08.871098Z",
     "iopub.status.idle": "2022-10-30T19:18:08.945630Z",
     "shell.execute_reply": "2022-10-30T19:18:08.944567Z"
    },
    "papermill": {
     "duration": 0.109229,
     "end_time": "2022-10-30T19:18:08.948110",
     "exception": false,
     "start_time": "2022-10-30T19:18:08.838881",
     "status": "completed"
    },
    "tags": []
   },
   "outputs": [
    {
     "data": {
      "text/html": [
       "<div>                            <div id=\"394b9411-e25e-4141-bcab-bc6d5743b0e6\" class=\"plotly-graph-div\" style=\"height:525px; width:100%;\"></div>            <script type=\"text/javascript\">                require([\"plotly\"], function(Plotly) {                    window.PLOTLYENV=window.PLOTLYENV || {};                                    if (document.getElementById(\"394b9411-e25e-4141-bcab-bc6d5743b0e6\")) {                    Plotly.newPlot(                        \"394b9411-e25e-4141-bcab-bc6d5743b0e6\",                        [{\"hovertemplate\":\"variable=ROC AUC<br>Model=%{x}<br>value=%{y}<extra></extra>\",\"legendgroup\":\"ROC AUC\",\"line\":{\"color\":\"#636efa\",\"dash\":\"solid\"},\"marker\":{\"symbol\":\"circle\"},\"mode\":\"lines+markers\",\"name\":\"ROC AUC\",\"orientation\":\"v\",\"showlegend\":true,\"x\":[\"LGBMClassifier\",\"XGBClassifier\",\"AdaBoostClassifier\",\"RandomForestClassifier\",\"ExtraTreesClassifier\",\"BaggingClassifier\",\"DecisionTreeClassifier\",\"NearestCentroid\",\"BernoulliNB\",\"CalibratedClassifierCV\",\"RidgeClassifier\",\"ExtraTreeClassifier\",\"LinearSVC\",\"Perceptron\",\"SGDClassifier\",\"NuSVC\",\"LogisticRegression\",\"PassiveAggressiveClassifier\",\"SVC\",\"KNeighborsClassifier\",\"LabelPropagation\",\"LabelSpreading\",\"QuadraticDiscriminantAnalysis\",\"GaussianNB\",\"DummyClassifier\"],\"xaxis\":\"x\",\"y\":[0.8056073641380551,0.8000113758419445,0.7879939893225818,0.7795666068773578,0.772189505653529,0.7719659571315947,0.7522758297750759,0.7387491600395772,0.733603575718133,0.7268951359016281,0.7238435001613783,0.7131277216040466,0.7078273729212632,0.6998107112811316,0.6906610951496583,0.6855670989486605,0.6812879304962512,0.6716019301893681,0.6649675656227346,0.6404274935580989,0.5908149335703742,0.5908149335703742,0.5349476446716086,0.5232483848949983,0.5],\"yaxis\":\"y\",\"type\":\"scatter\"},{\"hovertemplate\":\"variable=F1 Score<br>Model=%{x}<br>value=%{y}<extra></extra>\",\"legendgroup\":\"F1 Score\",\"line\":{\"color\":\"#EF553B\",\"dash\":\"solid\"},\"marker\":{\"symbol\":\"circle\"},\"mode\":\"lines+markers\",\"name\":\"F1 Score\",\"orientation\":\"v\",\"showlegend\":true,\"x\":[\"LGBMClassifier\",\"XGBClassifier\",\"AdaBoostClassifier\",\"RandomForestClassifier\",\"ExtraTreesClassifier\",\"BaggingClassifier\",\"DecisionTreeClassifier\",\"NearestCentroid\",\"BernoulliNB\",\"CalibratedClassifierCV\",\"RidgeClassifier\",\"ExtraTreeClassifier\",\"LinearSVC\",\"Perceptron\",\"SGDClassifier\",\"NuSVC\",\"LogisticRegression\",\"PassiveAggressiveClassifier\",\"SVC\",\"KNeighborsClassifier\",\"LabelPropagation\",\"LabelSpreading\",\"QuadraticDiscriminantAnalysis\",\"GaussianNB\",\"DummyClassifier\"],\"xaxis\":\"x\",\"y\":[0.8056310517818427,0.7998447534172254,0.7877600771217792,0.7786516433362507,0.7708193186839869,0.7714698865677592,0.752110675617558,0.7376798899288068,0.7323769276727982,0.7268545140885566,0.7238744587267001,0.713037537838016,0.7078618601443261,0.6998274870615296,0.690628024632501,0.6853933632547663,0.6813051044470663,0.6716351710038122,0.6644936231628186,0.6403982328579169,0.5747282819964145,0.5747282819964145,0.5015839298335064,0.4960726773176536,0.33749468112594105],\"yaxis\":\"y\",\"type\":\"scatter\"}],                        {\"template\":{\"data\":{\"histogram2dcontour\":[{\"type\":\"histogram2dcontour\",\"colorbar\":{\"outlinewidth\":0,\"ticks\":\"\"},\"colorscale\":[[0.0,\"#0d0887\"],[0.1111111111111111,\"#46039f\"],[0.2222222222222222,\"#7201a8\"],[0.3333333333333333,\"#9c179e\"],[0.4444444444444444,\"#bd3786\"],[0.5555555555555556,\"#d8576b\"],[0.6666666666666666,\"#ed7953\"],[0.7777777777777778,\"#fb9f3a\"],[0.8888888888888888,\"#fdca26\"],[1.0,\"#f0f921\"]]}],\"choropleth\":[{\"type\":\"choropleth\",\"colorbar\":{\"outlinewidth\":0,\"ticks\":\"\"}}],\"histogram2d\":[{\"type\":\"histogram2d\",\"colorbar\":{\"outlinewidth\":0,\"ticks\":\"\"},\"colorscale\":[[0.0,\"#0d0887\"],[0.1111111111111111,\"#46039f\"],[0.2222222222222222,\"#7201a8\"],[0.3333333333333333,\"#9c179e\"],[0.4444444444444444,\"#bd3786\"],[0.5555555555555556,\"#d8576b\"],[0.6666666666666666,\"#ed7953\"],[0.7777777777777778,\"#fb9f3a\"],[0.8888888888888888,\"#fdca26\"],[1.0,\"#f0f921\"]]}],\"heatmap\":[{\"type\":\"heatmap\",\"colorbar\":{\"outlinewidth\":0,\"ticks\":\"\"},\"colorscale\":[[0.0,\"#0d0887\"],[0.1111111111111111,\"#46039f\"],[0.2222222222222222,\"#7201a8\"],[0.3333333333333333,\"#9c179e\"],[0.4444444444444444,\"#bd3786\"],[0.5555555555555556,\"#d8576b\"],[0.6666666666666666,\"#ed7953\"],[0.7777777777777778,\"#fb9f3a\"],[0.8888888888888888,\"#fdca26\"],[1.0,\"#f0f921\"]]}],\"heatmapgl\":[{\"type\":\"heatmapgl\",\"colorbar\":{\"outlinewidth\":0,\"ticks\":\"\"},\"colorscale\":[[0.0,\"#0d0887\"],[0.1111111111111111,\"#46039f\"],[0.2222222222222222,\"#7201a8\"],[0.3333333333333333,\"#9c179e\"],[0.4444444444444444,\"#bd3786\"],[0.5555555555555556,\"#d8576b\"],[0.6666666666666666,\"#ed7953\"],[0.7777777777777778,\"#fb9f3a\"],[0.8888888888888888,\"#fdca26\"],[1.0,\"#f0f921\"]]}],\"contourcarpet\":[{\"type\":\"contourcarpet\",\"colorbar\":{\"outlinewidth\":0,\"ticks\":\"\"}}],\"contour\":[{\"type\":\"contour\",\"colorbar\":{\"outlinewidth\":0,\"ticks\":\"\"},\"colorscale\":[[0.0,\"#0d0887\"],[0.1111111111111111,\"#46039f\"],[0.2222222222222222,\"#7201a8\"],[0.3333333333333333,\"#9c179e\"],[0.4444444444444444,\"#bd3786\"],[0.5555555555555556,\"#d8576b\"],[0.6666666666666666,\"#ed7953\"],[0.7777777777777778,\"#fb9f3a\"],[0.8888888888888888,\"#fdca26\"],[1.0,\"#f0f921\"]]}],\"surface\":[{\"type\":\"surface\",\"colorbar\":{\"outlinewidth\":0,\"ticks\":\"\"},\"colorscale\":[[0.0,\"#0d0887\"],[0.1111111111111111,\"#46039f\"],[0.2222222222222222,\"#7201a8\"],[0.3333333333333333,\"#9c179e\"],[0.4444444444444444,\"#bd3786\"],[0.5555555555555556,\"#d8576b\"],[0.6666666666666666,\"#ed7953\"],[0.7777777777777778,\"#fb9f3a\"],[0.8888888888888888,\"#fdca26\"],[1.0,\"#f0f921\"]]}],\"mesh3d\":[{\"type\":\"mesh3d\",\"colorbar\":{\"outlinewidth\":0,\"ticks\":\"\"}}],\"scatter\":[{\"fillpattern\":{\"fillmode\":\"overlay\",\"size\":10,\"solidity\":0.2},\"type\":\"scatter\"}],\"parcoords\":[{\"type\":\"parcoords\",\"line\":{\"colorbar\":{\"outlinewidth\":0,\"ticks\":\"\"}}}],\"scatterpolargl\":[{\"type\":\"scatterpolargl\",\"marker\":{\"colorbar\":{\"outlinewidth\":0,\"ticks\":\"\"}}}],\"bar\":[{\"error_x\":{\"color\":\"#2a3f5f\"},\"error_y\":{\"color\":\"#2a3f5f\"},\"marker\":{\"line\":{\"color\":\"#E5ECF6\",\"width\":0.5},\"pattern\":{\"fillmode\":\"overlay\",\"size\":10,\"solidity\":0.2}},\"type\":\"bar\"}],\"scattergeo\":[{\"type\":\"scattergeo\",\"marker\":{\"colorbar\":{\"outlinewidth\":0,\"ticks\":\"\"}}}],\"scatterpolar\":[{\"type\":\"scatterpolar\",\"marker\":{\"colorbar\":{\"outlinewidth\":0,\"ticks\":\"\"}}}],\"histogram\":[{\"marker\":{\"pattern\":{\"fillmode\":\"overlay\",\"size\":10,\"solidity\":0.2}},\"type\":\"histogram\"}],\"scattergl\":[{\"type\":\"scattergl\",\"marker\":{\"colorbar\":{\"outlinewidth\":0,\"ticks\":\"\"}}}],\"scatter3d\":[{\"type\":\"scatter3d\",\"line\":{\"colorbar\":{\"outlinewidth\":0,\"ticks\":\"\"}},\"marker\":{\"colorbar\":{\"outlinewidth\":0,\"ticks\":\"\"}}}],\"scattermapbox\":[{\"type\":\"scattermapbox\",\"marker\":{\"colorbar\":{\"outlinewidth\":0,\"ticks\":\"\"}}}],\"scatterternary\":[{\"type\":\"scatterternary\",\"marker\":{\"colorbar\":{\"outlinewidth\":0,\"ticks\":\"\"}}}],\"scattercarpet\":[{\"type\":\"scattercarpet\",\"marker\":{\"colorbar\":{\"outlinewidth\":0,\"ticks\":\"\"}}}],\"carpet\":[{\"aaxis\":{\"endlinecolor\":\"#2a3f5f\",\"gridcolor\":\"white\",\"linecolor\":\"white\",\"minorgridcolor\":\"white\",\"startlinecolor\":\"#2a3f5f\"},\"baxis\":{\"endlinecolor\":\"#2a3f5f\",\"gridcolor\":\"white\",\"linecolor\":\"white\",\"minorgridcolor\":\"white\",\"startlinecolor\":\"#2a3f5f\"},\"type\":\"carpet\"}],\"table\":[{\"cells\":{\"fill\":{\"color\":\"#EBF0F8\"},\"line\":{\"color\":\"white\"}},\"header\":{\"fill\":{\"color\":\"#C8D4E3\"},\"line\":{\"color\":\"white\"}},\"type\":\"table\"}],\"barpolar\":[{\"marker\":{\"line\":{\"color\":\"#E5ECF6\",\"width\":0.5},\"pattern\":{\"fillmode\":\"overlay\",\"size\":10,\"solidity\":0.2}},\"type\":\"barpolar\"}],\"pie\":[{\"automargin\":true,\"type\":\"pie\"}]},\"layout\":{\"autotypenumbers\":\"strict\",\"colorway\":[\"#636efa\",\"#EF553B\",\"#00cc96\",\"#ab63fa\",\"#FFA15A\",\"#19d3f3\",\"#FF6692\",\"#B6E880\",\"#FF97FF\",\"#FECB52\"],\"font\":{\"color\":\"#2a3f5f\"},\"hovermode\":\"closest\",\"hoverlabel\":{\"align\":\"left\"},\"paper_bgcolor\":\"white\",\"plot_bgcolor\":\"#E5ECF6\",\"polar\":{\"bgcolor\":\"#E5ECF6\",\"angularaxis\":{\"gridcolor\":\"white\",\"linecolor\":\"white\",\"ticks\":\"\"},\"radialaxis\":{\"gridcolor\":\"white\",\"linecolor\":\"white\",\"ticks\":\"\"}},\"ternary\":{\"bgcolor\":\"#E5ECF6\",\"aaxis\":{\"gridcolor\":\"white\",\"linecolor\":\"white\",\"ticks\":\"\"},\"baxis\":{\"gridcolor\":\"white\",\"linecolor\":\"white\",\"ticks\":\"\"},\"caxis\":{\"gridcolor\":\"white\",\"linecolor\":\"white\",\"ticks\":\"\"}},\"coloraxis\":{\"colorbar\":{\"outlinewidth\":0,\"ticks\":\"\"}},\"colorscale\":{\"sequential\":[[0.0,\"#0d0887\"],[0.1111111111111111,\"#46039f\"],[0.2222222222222222,\"#7201a8\"],[0.3333333333333333,\"#9c179e\"],[0.4444444444444444,\"#bd3786\"],[0.5555555555555556,\"#d8576b\"],[0.6666666666666666,\"#ed7953\"],[0.7777777777777778,\"#fb9f3a\"],[0.8888888888888888,\"#fdca26\"],[1.0,\"#f0f921\"]],\"sequentialminus\":[[0.0,\"#0d0887\"],[0.1111111111111111,\"#46039f\"],[0.2222222222222222,\"#7201a8\"],[0.3333333333333333,\"#9c179e\"],[0.4444444444444444,\"#bd3786\"],[0.5555555555555556,\"#d8576b\"],[0.6666666666666666,\"#ed7953\"],[0.7777777777777778,\"#fb9f3a\"],[0.8888888888888888,\"#fdca26\"],[1.0,\"#f0f921\"]],\"diverging\":[[0,\"#8e0152\"],[0.1,\"#c51b7d\"],[0.2,\"#de77ae\"],[0.3,\"#f1b6da\"],[0.4,\"#fde0ef\"],[0.5,\"#f7f7f7\"],[0.6,\"#e6f5d0\"],[0.7,\"#b8e186\"],[0.8,\"#7fbc41\"],[0.9,\"#4d9221\"],[1,\"#276419\"]]},\"xaxis\":{\"gridcolor\":\"white\",\"linecolor\":\"white\",\"ticks\":\"\",\"title\":{\"standoff\":15},\"zerolinecolor\":\"white\",\"automargin\":true,\"zerolinewidth\":2},\"yaxis\":{\"gridcolor\":\"white\",\"linecolor\":\"white\",\"ticks\":\"\",\"title\":{\"standoff\":15},\"zerolinecolor\":\"white\",\"automargin\":true,\"zerolinewidth\":2},\"scene\":{\"xaxis\":{\"backgroundcolor\":\"#E5ECF6\",\"gridcolor\":\"white\",\"linecolor\":\"white\",\"showbackground\":true,\"ticks\":\"\",\"zerolinecolor\":\"white\",\"gridwidth\":2},\"yaxis\":{\"backgroundcolor\":\"#E5ECF6\",\"gridcolor\":\"white\",\"linecolor\":\"white\",\"showbackground\":true,\"ticks\":\"\",\"zerolinecolor\":\"white\",\"gridwidth\":2},\"zaxis\":{\"backgroundcolor\":\"#E5ECF6\",\"gridcolor\":\"white\",\"linecolor\":\"white\",\"showbackground\":true,\"ticks\":\"\",\"zerolinecolor\":\"white\",\"gridwidth\":2}},\"shapedefaults\":{\"line\":{\"color\":\"#2a3f5f\"}},\"annotationdefaults\":{\"arrowcolor\":\"#2a3f5f\",\"arrowhead\":0,\"arrowwidth\":1},\"geo\":{\"bgcolor\":\"white\",\"landcolor\":\"#E5ECF6\",\"subunitcolor\":\"white\",\"showland\":true,\"showlakes\":true,\"lakecolor\":\"white\"},\"title\":{\"x\":0.05},\"mapbox\":{\"style\":\"light\"}}},\"xaxis\":{\"anchor\":\"y\",\"domain\":[0.0,1.0],\"title\":{\"text\":\"Model\"},\"rangeslider\":{\"visible\":false}},\"yaxis\":{\"anchor\":\"x\",\"domain\":[0.0,1.0],\"title\":{\"text\":\"ROC AUC SCORE\"}},\"legend\":{\"title\":{\"text\":\"variable\"},\"tracegroupgap\":0},\"margin\":{\"t\":60},\"title\":{\"text\":\"ROC AUC and F1 Score of Model\",\"y\":0.94,\"x\":0.5,\"xanchor\":\"center\",\"yanchor\":\"top\"},\"showlegend\":true},                        {\"responsive\": true}                    ).then(function(){\n",
       "                            \n",
       "var gd = document.getElementById('394b9411-e25e-4141-bcab-bc6d5743b0e6');\n",
       "var x = new MutationObserver(function (mutations, observer) {{\n",
       "        var display = window.getComputedStyle(gd).display;\n",
       "        if (!display || display === 'none') {{\n",
       "            console.log([gd, 'removed!']);\n",
       "            Plotly.purge(gd);\n",
       "            observer.disconnect();\n",
       "        }}\n",
       "}});\n",
       "\n",
       "// Listen for the removal of the full notebook cells\n",
       "var notebookContainer = gd.closest('#notebook-container');\n",
       "if (notebookContainer) {{\n",
       "    x.observe(notebookContainer, {childList: true});\n",
       "}}\n",
       "\n",
       "// Listen for the clearing of the current output cell\n",
       "var outputEl = gd.closest('.output');\n",
       "if (outputEl) {{\n",
       "    x.observe(outputEl, {childList: true});\n",
       "}}\n",
       "\n",
       "                        })                };                });            </script>        </div>"
      ]
     },
     "metadata": {},
     "output_type": "display_data"
    }
   ],
   "source": [
    "# roc auc, f1\n",
    "line = px.line(data_frame= models ,y =[\"ROC AUC\" , \"F1 Score\"] , markers = True)\n",
    "line.update_xaxes(title=\"Model\",\n",
    "              rangeslider_visible = False)\n",
    "line.update_yaxes(title = \"ROC AUC SCORE\")\n",
    "line.update_layout(showlegend = True,\n",
    "    title = {\n",
    "        'text': 'ROC AUC and F1 Score of Model',\n",
    "        'y':0.94,\n",
    "        'x':0.5,\n",
    "        'xanchor': 'center',\n",
    "        'yanchor': 'top'})\n",
    "\n",
    "line.show()"
   ]
  },
  {
   "cell_type": "code",
   "execution_count": 47,
   "id": "e5fd5eaf",
   "metadata": {
    "execution": {
     "iopub.execute_input": "2022-10-30T19:18:09.011515Z",
     "iopub.status.busy": "2022-10-30T19:18:09.010849Z",
     "iopub.status.idle": "2022-10-30T19:18:09.080133Z",
     "shell.execute_reply": "2022-10-30T19:18:09.079272Z"
    },
    "papermill": {
     "duration": 0.103358,
     "end_time": "2022-10-30T19:18:09.082163",
     "exception": false,
     "start_time": "2022-10-30T19:18:08.978805",
     "status": "completed"
    },
    "tags": []
   },
   "outputs": [
    {
     "data": {
      "text/html": [
       "<div>                            <div id=\"48ef7137-1863-4688-8cae-21f272c29629\" class=\"plotly-graph-div\" style=\"height:525px; width:100%;\"></div>            <script type=\"text/javascript\">                require([\"plotly\"], function(Plotly) {                    window.PLOTLYENV=window.PLOTLYENV || {};                                    if (document.getElementById(\"48ef7137-1863-4688-8cae-21f272c29629\")) {                    Plotly.newPlot(                        \"48ef7137-1863-4688-8cae-21f272c29629\",                        [{\"hovertemplate\":\"variable=Time Taken<br>Model=%{x}<br>value=%{y}<extra></extra>\",\"legendgroup\":\"Time Taken\",\"line\":{\"color\":\"blue\",\"dash\":\"solid\"},\"marker\":{\"symbol\":\"circle\"},\"mode\":\"lines+markers\",\"name\":\"Time Taken\",\"orientation\":\"v\",\"showlegend\":true,\"x\":[\"LGBMClassifier\",\"XGBClassifier\",\"AdaBoostClassifier\",\"RandomForestClassifier\",\"ExtraTreesClassifier\",\"BaggingClassifier\",\"DecisionTreeClassifier\",\"NearestCentroid\",\"BernoulliNB\",\"CalibratedClassifierCV\",\"RidgeClassifier\",\"ExtraTreeClassifier\",\"LinearSVC\",\"Perceptron\",\"SGDClassifier\",\"NuSVC\",\"LogisticRegression\",\"PassiveAggressiveClassifier\",\"SVC\",\"KNeighborsClassifier\",\"LabelPropagation\",\"LabelSpreading\",\"QuadraticDiscriminantAnalysis\",\"GaussianNB\",\"DummyClassifier\"],\"xaxis\":\"x\",\"y\":[1.7209935188293457,29.112922430038452,14.589715719223022,7.084290981292725,11.007559061050415,6.520500659942627,1.7242398262023926,0.8757014274597168,1.009749174118042,219.02793884277344,2.0540263652801514,0.9017064571380615,56.53489136695862,1.13151216506958,7.846805572509766,93.8827257156372,2.1747612953186035,2.1637837886810303,91.46764588356018,2.0703816413879395,5.257578372955322,6.328078985214233,18.295422315597534,1.0558276176452637,0.7430672645568848],\"yaxis\":\"y\",\"type\":\"scatter\"}],                        {\"template\":{\"data\":{\"histogram2dcontour\":[{\"type\":\"histogram2dcontour\",\"colorbar\":{\"outlinewidth\":0,\"ticks\":\"\"},\"colorscale\":[[0.0,\"#0d0887\"],[0.1111111111111111,\"#46039f\"],[0.2222222222222222,\"#7201a8\"],[0.3333333333333333,\"#9c179e\"],[0.4444444444444444,\"#bd3786\"],[0.5555555555555556,\"#d8576b\"],[0.6666666666666666,\"#ed7953\"],[0.7777777777777778,\"#fb9f3a\"],[0.8888888888888888,\"#fdca26\"],[1.0,\"#f0f921\"]]}],\"choropleth\":[{\"type\":\"choropleth\",\"colorbar\":{\"outlinewidth\":0,\"ticks\":\"\"}}],\"histogram2d\":[{\"type\":\"histogram2d\",\"colorbar\":{\"outlinewidth\":0,\"ticks\":\"\"},\"colorscale\":[[0.0,\"#0d0887\"],[0.1111111111111111,\"#46039f\"],[0.2222222222222222,\"#7201a8\"],[0.3333333333333333,\"#9c179e\"],[0.4444444444444444,\"#bd3786\"],[0.5555555555555556,\"#d8576b\"],[0.6666666666666666,\"#ed7953\"],[0.7777777777777778,\"#fb9f3a\"],[0.8888888888888888,\"#fdca26\"],[1.0,\"#f0f921\"]]}],\"heatmap\":[{\"type\":\"heatmap\",\"colorbar\":{\"outlinewidth\":0,\"ticks\":\"\"},\"colorscale\":[[0.0,\"#0d0887\"],[0.1111111111111111,\"#46039f\"],[0.2222222222222222,\"#7201a8\"],[0.3333333333333333,\"#9c179e\"],[0.4444444444444444,\"#bd3786\"],[0.5555555555555556,\"#d8576b\"],[0.6666666666666666,\"#ed7953\"],[0.7777777777777778,\"#fb9f3a\"],[0.8888888888888888,\"#fdca26\"],[1.0,\"#f0f921\"]]}],\"heatmapgl\":[{\"type\":\"heatmapgl\",\"colorbar\":{\"outlinewidth\":0,\"ticks\":\"\"},\"colorscale\":[[0.0,\"#0d0887\"],[0.1111111111111111,\"#46039f\"],[0.2222222222222222,\"#7201a8\"],[0.3333333333333333,\"#9c179e\"],[0.4444444444444444,\"#bd3786\"],[0.5555555555555556,\"#d8576b\"],[0.6666666666666666,\"#ed7953\"],[0.7777777777777778,\"#fb9f3a\"],[0.8888888888888888,\"#fdca26\"],[1.0,\"#f0f921\"]]}],\"contourcarpet\":[{\"type\":\"contourcarpet\",\"colorbar\":{\"outlinewidth\":0,\"ticks\":\"\"}}],\"contour\":[{\"type\":\"contour\",\"colorbar\":{\"outlinewidth\":0,\"ticks\":\"\"},\"colorscale\":[[0.0,\"#0d0887\"],[0.1111111111111111,\"#46039f\"],[0.2222222222222222,\"#7201a8\"],[0.3333333333333333,\"#9c179e\"],[0.4444444444444444,\"#bd3786\"],[0.5555555555555556,\"#d8576b\"],[0.6666666666666666,\"#ed7953\"],[0.7777777777777778,\"#fb9f3a\"],[0.8888888888888888,\"#fdca26\"],[1.0,\"#f0f921\"]]}],\"surface\":[{\"type\":\"surface\",\"colorbar\":{\"outlinewidth\":0,\"ticks\":\"\"},\"colorscale\":[[0.0,\"#0d0887\"],[0.1111111111111111,\"#46039f\"],[0.2222222222222222,\"#7201a8\"],[0.3333333333333333,\"#9c179e\"],[0.4444444444444444,\"#bd3786\"],[0.5555555555555556,\"#d8576b\"],[0.6666666666666666,\"#ed7953\"],[0.7777777777777778,\"#fb9f3a\"],[0.8888888888888888,\"#fdca26\"],[1.0,\"#f0f921\"]]}],\"mesh3d\":[{\"type\":\"mesh3d\",\"colorbar\":{\"outlinewidth\":0,\"ticks\":\"\"}}],\"scatter\":[{\"fillpattern\":{\"fillmode\":\"overlay\",\"size\":10,\"solidity\":0.2},\"type\":\"scatter\"}],\"parcoords\":[{\"type\":\"parcoords\",\"line\":{\"colorbar\":{\"outlinewidth\":0,\"ticks\":\"\"}}}],\"scatterpolargl\":[{\"type\":\"scatterpolargl\",\"marker\":{\"colorbar\":{\"outlinewidth\":0,\"ticks\":\"\"}}}],\"bar\":[{\"error_x\":{\"color\":\"#2a3f5f\"},\"error_y\":{\"color\":\"#2a3f5f\"},\"marker\":{\"line\":{\"color\":\"#E5ECF6\",\"width\":0.5},\"pattern\":{\"fillmode\":\"overlay\",\"size\":10,\"solidity\":0.2}},\"type\":\"bar\"}],\"scattergeo\":[{\"type\":\"scattergeo\",\"marker\":{\"colorbar\":{\"outlinewidth\":0,\"ticks\":\"\"}}}],\"scatterpolar\":[{\"type\":\"scatterpolar\",\"marker\":{\"colorbar\":{\"outlinewidth\":0,\"ticks\":\"\"}}}],\"histogram\":[{\"marker\":{\"pattern\":{\"fillmode\":\"overlay\",\"size\":10,\"solidity\":0.2}},\"type\":\"histogram\"}],\"scattergl\":[{\"type\":\"scattergl\",\"marker\":{\"colorbar\":{\"outlinewidth\":0,\"ticks\":\"\"}}}],\"scatter3d\":[{\"type\":\"scatter3d\",\"line\":{\"colorbar\":{\"outlinewidth\":0,\"ticks\":\"\"}},\"marker\":{\"colorbar\":{\"outlinewidth\":0,\"ticks\":\"\"}}}],\"scattermapbox\":[{\"type\":\"scattermapbox\",\"marker\":{\"colorbar\":{\"outlinewidth\":0,\"ticks\":\"\"}}}],\"scatterternary\":[{\"type\":\"scatterternary\",\"marker\":{\"colorbar\":{\"outlinewidth\":0,\"ticks\":\"\"}}}],\"scattercarpet\":[{\"type\":\"scattercarpet\",\"marker\":{\"colorbar\":{\"outlinewidth\":0,\"ticks\":\"\"}}}],\"carpet\":[{\"aaxis\":{\"endlinecolor\":\"#2a3f5f\",\"gridcolor\":\"white\",\"linecolor\":\"white\",\"minorgridcolor\":\"white\",\"startlinecolor\":\"#2a3f5f\"},\"baxis\":{\"endlinecolor\":\"#2a3f5f\",\"gridcolor\":\"white\",\"linecolor\":\"white\",\"minorgridcolor\":\"white\",\"startlinecolor\":\"#2a3f5f\"},\"type\":\"carpet\"}],\"table\":[{\"cells\":{\"fill\":{\"color\":\"#EBF0F8\"},\"line\":{\"color\":\"white\"}},\"header\":{\"fill\":{\"color\":\"#C8D4E3\"},\"line\":{\"color\":\"white\"}},\"type\":\"table\"}],\"barpolar\":[{\"marker\":{\"line\":{\"color\":\"#E5ECF6\",\"width\":0.5},\"pattern\":{\"fillmode\":\"overlay\",\"size\":10,\"solidity\":0.2}},\"type\":\"barpolar\"}],\"pie\":[{\"automargin\":true,\"type\":\"pie\"}]},\"layout\":{\"autotypenumbers\":\"strict\",\"colorway\":[\"#636efa\",\"#EF553B\",\"#00cc96\",\"#ab63fa\",\"#FFA15A\",\"#19d3f3\",\"#FF6692\",\"#B6E880\",\"#FF97FF\",\"#FECB52\"],\"font\":{\"color\":\"#2a3f5f\"},\"hovermode\":\"closest\",\"hoverlabel\":{\"align\":\"left\"},\"paper_bgcolor\":\"white\",\"plot_bgcolor\":\"#E5ECF6\",\"polar\":{\"bgcolor\":\"#E5ECF6\",\"angularaxis\":{\"gridcolor\":\"white\",\"linecolor\":\"white\",\"ticks\":\"\"},\"radialaxis\":{\"gridcolor\":\"white\",\"linecolor\":\"white\",\"ticks\":\"\"}},\"ternary\":{\"bgcolor\":\"#E5ECF6\",\"aaxis\":{\"gridcolor\":\"white\",\"linecolor\":\"white\",\"ticks\":\"\"},\"baxis\":{\"gridcolor\":\"white\",\"linecolor\":\"white\",\"ticks\":\"\"},\"caxis\":{\"gridcolor\":\"white\",\"linecolor\":\"white\",\"ticks\":\"\"}},\"coloraxis\":{\"colorbar\":{\"outlinewidth\":0,\"ticks\":\"\"}},\"colorscale\":{\"sequential\":[[0.0,\"#0d0887\"],[0.1111111111111111,\"#46039f\"],[0.2222222222222222,\"#7201a8\"],[0.3333333333333333,\"#9c179e\"],[0.4444444444444444,\"#bd3786\"],[0.5555555555555556,\"#d8576b\"],[0.6666666666666666,\"#ed7953\"],[0.7777777777777778,\"#fb9f3a\"],[0.8888888888888888,\"#fdca26\"],[1.0,\"#f0f921\"]],\"sequentialminus\":[[0.0,\"#0d0887\"],[0.1111111111111111,\"#46039f\"],[0.2222222222222222,\"#7201a8\"],[0.3333333333333333,\"#9c179e\"],[0.4444444444444444,\"#bd3786\"],[0.5555555555555556,\"#d8576b\"],[0.6666666666666666,\"#ed7953\"],[0.7777777777777778,\"#fb9f3a\"],[0.8888888888888888,\"#fdca26\"],[1.0,\"#f0f921\"]],\"diverging\":[[0,\"#8e0152\"],[0.1,\"#c51b7d\"],[0.2,\"#de77ae\"],[0.3,\"#f1b6da\"],[0.4,\"#fde0ef\"],[0.5,\"#f7f7f7\"],[0.6,\"#e6f5d0\"],[0.7,\"#b8e186\"],[0.8,\"#7fbc41\"],[0.9,\"#4d9221\"],[1,\"#276419\"]]},\"xaxis\":{\"gridcolor\":\"white\",\"linecolor\":\"white\",\"ticks\":\"\",\"title\":{\"standoff\":15},\"zerolinecolor\":\"white\",\"automargin\":true,\"zerolinewidth\":2},\"yaxis\":{\"gridcolor\":\"white\",\"linecolor\":\"white\",\"ticks\":\"\",\"title\":{\"standoff\":15},\"zerolinecolor\":\"white\",\"automargin\":true,\"zerolinewidth\":2},\"scene\":{\"xaxis\":{\"backgroundcolor\":\"#E5ECF6\",\"gridcolor\":\"white\",\"linecolor\":\"white\",\"showbackground\":true,\"ticks\":\"\",\"zerolinecolor\":\"white\",\"gridwidth\":2},\"yaxis\":{\"backgroundcolor\":\"#E5ECF6\",\"gridcolor\":\"white\",\"linecolor\":\"white\",\"showbackground\":true,\"ticks\":\"\",\"zerolinecolor\":\"white\",\"gridwidth\":2},\"zaxis\":{\"backgroundcolor\":\"#E5ECF6\",\"gridcolor\":\"white\",\"linecolor\":\"white\",\"showbackground\":true,\"ticks\":\"\",\"zerolinecolor\":\"white\",\"gridwidth\":2}},\"shapedefaults\":{\"line\":{\"color\":\"#2a3f5f\"}},\"annotationdefaults\":{\"arrowcolor\":\"#2a3f5f\",\"arrowhead\":0,\"arrowwidth\":1},\"geo\":{\"bgcolor\":\"white\",\"landcolor\":\"#E5ECF6\",\"subunitcolor\":\"white\",\"showland\":true,\"showlakes\":true,\"lakecolor\":\"white\"},\"title\":{\"x\":0.05},\"mapbox\":{\"style\":\"light\"}}},\"xaxis\":{\"anchor\":\"y\",\"domain\":[0.0,1.0],\"title\":{\"text\":\"Model\"},\"rangeslider\":{\"visible\":false}},\"yaxis\":{\"anchor\":\"x\",\"domain\":[0.0,1.0],\"title\":{\"text\":\"Time\"}},\"legend\":{\"title\":{\"text\":\"variable\"},\"tracegroupgap\":0},\"margin\":{\"t\":60},\"title\":{\"text\":\"Model Time\",\"y\":0.94,\"x\":0.5,\"xanchor\":\"center\",\"yanchor\":\"top\"},\"showlegend\":true},                        {\"responsive\": true}                    ).then(function(){\n",
       "                            \n",
       "var gd = document.getElementById('48ef7137-1863-4688-8cae-21f272c29629');\n",
       "var x = new MutationObserver(function (mutations, observer) {{\n",
       "        var display = window.getComputedStyle(gd).display;\n",
       "        if (!display || display === 'none') {{\n",
       "            console.log([gd, 'removed!']);\n",
       "            Plotly.purge(gd);\n",
       "            observer.disconnect();\n",
       "        }}\n",
       "}});\n",
       "\n",
       "// Listen for the removal of the full notebook cells\n",
       "var notebookContainer = gd.closest('#notebook-container');\n",
       "if (notebookContainer) {{\n",
       "    x.observe(notebookContainer, {childList: true});\n",
       "}}\n",
       "\n",
       "// Listen for the clearing of the current output cell\n",
       "var outputEl = gd.closest('.output');\n",
       "if (outputEl) {{\n",
       "    x.observe(outputEl, {childList: true});\n",
       "}}\n",
       "\n",
       "                        })                };                });            </script>        </div>"
      ]
     },
     "metadata": {},
     "output_type": "display_data"
    }
   ],
   "source": [
    "# time\n",
    "line = px.line(data_frame= models ,y =[\"Time Taken\"] , markers = True)\n",
    "line.update_xaxes(title=\"Model\",\n",
    "              rangeslider_visible = False)\n",
    "line.update_yaxes(title = \"Time\")\n",
    "line.update_traces(line_color=\"blue\")\n",
    "line.update_layout(showlegend = True,\n",
    "    title = {\n",
    "        'text': 'Model Time',\n",
    "        'y':0.94,\n",
    "        'x':0.5,\n",
    "        'xanchor': 'center',\n",
    "        'yanchor': 'top'})\n",
    "\n",
    "line.show()"
   ]
  },
  {
   "cell_type": "code",
   "execution_count": 48,
   "id": "e67ffadf",
   "metadata": {
    "execution": {
     "iopub.execute_input": "2022-10-30T19:18:09.148518Z",
     "iopub.status.busy": "2022-10-30T19:18:09.147833Z",
     "iopub.status.idle": "2022-10-30T19:18:09.152117Z",
     "shell.execute_reply": "2022-10-30T19:18:09.151225Z"
    },
    "papermill": {
     "duration": 0.039009,
     "end_time": "2022-10-30T19:18:09.154141",
     "exception": false,
     "start_time": "2022-10-30T19:18:09.115132",
     "status": "completed"
    },
    "tags": []
   },
   "outputs": [],
   "source": [
    "# BU GRİD DENEMELERİNE BİŞ BAK "
   ]
  },
  {
   "cell_type": "code",
   "execution_count": 49,
   "id": "5d6c64ee",
   "metadata": {
    "execution": {
     "iopub.execute_input": "2022-10-30T19:18:09.218947Z",
     "iopub.status.busy": "2022-10-30T19:18:09.218223Z",
     "iopub.status.idle": "2022-10-30T19:18:09.224923Z",
     "shell.execute_reply": "2022-10-30T19:18:09.223864Z"
    },
    "papermill": {
     "duration": 0.042665,
     "end_time": "2022-10-30T19:18:09.227481",
     "exception": false,
     "start_time": "2022-10-30T19:18:09.184816",
     "status": "completed"
    },
    "tags": []
   },
   "outputs": [],
   "source": [
    "\n",
    "# Classifiers\n",
    "classifiers = {\n",
    "    \"LGBM\" : LGBMClassifier(random_state=42),\n",
    "    \"RandomForest\" : RandomForestClassifier(random_state=42)\n",
    "}\n",
    "\n",
    "# Grids for grid search\n",
    "\n",
    "boosted_grid = {'n_estimators': [50, 100, 150],\n",
    "        'max_depth': [-1, 5, 10],\n",
    "        'learning_rate': [0.05, 0.1, 0.15]}\n",
    "RF_grid = {'n_estimators': [50, 100, 150, 200],\n",
    "        'max_depth': [4, 6, 8, 10, 12]}\n",
    "\n",
    "# Dictionary of all grids\n",
    "grid = {\n",
    "    \"LGBM\" : boosted_grid,\n",
    "    \"RandomForest\" : RF_grid\n",
    "}"
   ]
  },
  {
   "cell_type": "code",
   "execution_count": 50,
   "id": "0e993914",
   "metadata": {
    "execution": {
     "iopub.execute_input": "2022-10-30T19:18:09.291462Z",
     "iopub.status.busy": "2022-10-30T19:18:09.291045Z",
     "iopub.status.idle": "2022-10-30T19:20:08.477416Z",
     "shell.execute_reply": "2022-10-30T19:20:08.475959Z"
    },
    "papermill": {
     "duration": 119.252488,
     "end_time": "2022-10-30T19:20:08.510932",
     "exception": false,
     "start_time": "2022-10-30T19:18:09.258444",
     "status": "completed"
    },
    "tags": []
   },
   "outputs": [
    {
     "name": "stdout",
     "output_type": "stream",
     "text": [
      "Model: LGBM\n",
      "Training time (mins): 0.37\n",
      "\n",
      "Model: RandomForest\n",
      "Training time (mins): 1.61\n",
      "\n"
     ]
    }
   ],
   "source": [
    "i=0\n",
    "clf_best_params=classifiers.copy()\n",
    "valid_scores=pd.DataFrame({'Classifer':classifiers.keys(), 'Validation accuracy': np.zeros(len(classifiers)), 'Training time': np.zeros(len(classifiers))})\n",
    "for key, classifier in classifiers.items():\n",
    "    start = time.time()\n",
    "    clf = GridSearchCV(estimator=classifier, param_grid=grid[key], n_jobs=-1, cv=None)\n",
    "\n",
    "    # Train and score\n",
    "    clf.fit(X_train, y_train)\n",
    "    valid_scores.iloc[i,1]=clf.score(X_valid, y_valid)\n",
    "\n",
    "    # Save trained model\n",
    "    clf_best_params[key]=clf.best_params_\n",
    "    \n",
    "    # Print iteration and training time\n",
    "    stop = time.time()\n",
    "    valid_scores.iloc[i,2]=np.round((stop - start)/60, 2)\n",
    "    \n",
    "    print('Model:', key)\n",
    "    print('Training time (mins):', valid_scores.iloc[i,2])\n",
    "    print('')\n",
    "    i+=1"
   ]
  },
  {
   "cell_type": "code",
   "execution_count": 51,
   "id": "8c457086",
   "metadata": {
    "execution": {
     "iopub.execute_input": "2022-10-30T19:20:08.574864Z",
     "iopub.status.busy": "2022-10-30T19:20:08.574458Z",
     "iopub.status.idle": "2022-10-30T19:20:08.586035Z",
     "shell.execute_reply": "2022-10-30T19:20:08.584905Z"
    },
    "papermill": {
     "duration": 0.046427,
     "end_time": "2022-10-30T19:20:08.588394",
     "exception": false,
     "start_time": "2022-10-30T19:20:08.541967",
     "status": "completed"
    },
    "tags": []
   },
   "outputs": [
    {
     "data": {
      "text/html": [
       "<div>\n",
       "<style scoped>\n",
       "    .dataframe tbody tr th:only-of-type {\n",
       "        vertical-align: middle;\n",
       "    }\n",
       "\n",
       "    .dataframe tbody tr th {\n",
       "        vertical-align: top;\n",
       "    }\n",
       "\n",
       "    .dataframe thead th {\n",
       "        text-align: right;\n",
       "    }\n",
       "</style>\n",
       "<table border=\"1\" class=\"dataframe\">\n",
       "  <thead>\n",
       "    <tr style=\"text-align: right;\">\n",
       "      <th></th>\n",
       "      <th>Classifer</th>\n",
       "      <th>Validation accuracy</th>\n",
       "      <th>Training time</th>\n",
       "    </tr>\n",
       "  </thead>\n",
       "  <tbody>\n",
       "    <tr>\n",
       "      <th>0</th>\n",
       "      <td>LGBM</td>\n",
       "      <td>0.80</td>\n",
       "      <td>0.37</td>\n",
       "    </tr>\n",
       "    <tr>\n",
       "      <th>1</th>\n",
       "      <td>RandomForest</td>\n",
       "      <td>0.74</td>\n",
       "      <td>1.61</td>\n",
       "    </tr>\n",
       "  </tbody>\n",
       "</table>\n",
       "</div>"
      ],
      "text/plain": [
       "      Classifer  Validation accuracy  Training time\n",
       "0          LGBM                 0.80           0.37\n",
       "1  RandomForest                 0.74           1.61"
      ]
     },
     "execution_count": 51,
     "metadata": {},
     "output_type": "execute_result"
    }
   ],
   "source": [
    "# Show results\n",
    "valid_scores"
   ]
  },
  {
   "cell_type": "code",
   "execution_count": 52,
   "id": "5d032d8d",
   "metadata": {
    "execution": {
     "iopub.execute_input": "2022-10-30T19:20:08.653486Z",
     "iopub.status.busy": "2022-10-30T19:20:08.653071Z",
     "iopub.status.idle": "2022-10-30T19:20:08.660485Z",
     "shell.execute_reply": "2022-10-30T19:20:08.659246Z"
    },
    "papermill": {
     "duration": 0.043287,
     "end_time": "2022-10-30T19:20:08.662880",
     "exception": false,
     "start_time": "2022-10-30T19:20:08.619593",
     "status": "completed"
    },
    "tags": []
   },
   "outputs": [
    {
     "data": {
      "text/plain": [
       "{'LGBM': {'learning_rate': 0.05, 'max_depth': 5, 'n_estimators': 150},\n",
       " 'RandomForest': {'max_depth': 12, 'n_estimators': 50}}"
      ]
     },
     "execution_count": 52,
     "metadata": {},
     "output_type": "execute_result"
    }
   ],
   "source": [
    "# Show best parameters from grid search\n",
    "clf_best_params"
   ]
  },
  {
   "cell_type": "markdown",
   "id": "849545ce",
   "metadata": {
    "papermill": {
     "duration": 0.032693,
     "end_time": "2022-10-30T19:20:08.726949",
     "exception": false,
     "start_time": "2022-10-30T19:20:08.694256",
     "status": "completed"
    },
    "tags": []
   },
   "source": [
    "# Modelling"
   ]
  },
  {
   "cell_type": "code",
   "execution_count": 53,
   "id": "a382600d",
   "metadata": {
    "execution": {
     "iopub.execute_input": "2022-10-30T19:20:08.792826Z",
     "iopub.status.busy": "2022-10-30T19:20:08.792410Z",
     "iopub.status.idle": "2022-10-30T19:20:08.798039Z",
     "shell.execute_reply": "2022-10-30T19:20:08.797035Z"
    },
    "papermill": {
     "duration": 0.041754,
     "end_time": "2022-10-30T19:20:08.800486",
     "exception": false,
     "start_time": "2022-10-30T19:20:08.758732",
     "status": "completed"
    },
    "tags": []
   },
   "outputs": [],
   "source": [
    "# Define best models\n",
    "\n",
    "# Classifiers\n",
    "best_classifiers = {\n",
    "    \"LGBM\" : LGBMClassifier(**clf_best_params[\"LGBM\"], random_state=0),\n",
    "    \"RandomForest\" : RandomForestClassifier(**clf_best_params[\"RandomForest\"], verbose=False, random_state=0),\n",
    "}"
   ]
  },
  {
   "cell_type": "code",
   "execution_count": 54,
   "id": "03b25221",
   "metadata": {
    "execution": {
     "iopub.execute_input": "2022-10-30T19:20:08.865565Z",
     "iopub.status.busy": "2022-10-30T19:20:08.864502Z",
     "iopub.status.idle": "2022-10-30T19:20:08.869834Z",
     "shell.execute_reply": "2022-10-30T19:20:08.868782Z"
    },
    "papermill": {
     "duration": 0.040687,
     "end_time": "2022-10-30T19:20:08.872463",
     "exception": false,
     "start_time": "2022-10-30T19:20:08.831776",
     "status": "completed"
    },
    "tags": []
   },
   "outputs": [],
   "source": [
    "# Cross validation and ensembling predictions\n"
   ]
  },
  {
   "cell_type": "code",
   "execution_count": 55,
   "id": "4a5fc262",
   "metadata": {
    "execution": {
     "iopub.execute_input": "2022-10-30T19:20:08.937242Z",
     "iopub.status.busy": "2022-10-30T19:20:08.936834Z",
     "iopub.status.idle": "2022-10-30T19:20:18.218269Z",
     "shell.execute_reply": "2022-10-30T19:20:18.217085Z"
    },
    "papermill": {
     "duration": 9.31744,
     "end_time": "2022-10-30T19:20:18.221389",
     "exception": false,
     "start_time": "2022-10-30T19:20:08.903949",
     "status": "completed"
    },
    "tags": []
   },
   "outputs": [
    {
     "name": "stdout",
     "output_type": "stream",
     "text": [
      "Model: LGBM\n",
      "Average validation accuracy: 81.08\n",
      "Training time (mins): 0.03\n",
      "\n",
      "Model: RandomForest\n",
      "Average validation accuracy: 74.0\n",
      "Training time (mins): 0.13\n",
      "\n"
     ]
    }
   ],
   "source": [
    "# Number of folds in cross validation\n",
    "FOLDS=5\n",
    "\n",
    "preds=np.zeros(len(X_test))\n",
    "for key, classifier in best_classifiers.items():\n",
    "    start = time.time()\n",
    "    \n",
    "    # 10-fold cross validation\n",
    "    cv = StratifiedKFold(n_splits=FOLDS, shuffle=True, random_state=42)\n",
    "    \n",
    "    score=0\n",
    "    for fold, (train_idx, val_idx) in enumerate(cv.split(X, y)):\n",
    "        # Get training and validation sets\n",
    "        X_train, X_valid = X[train_idx], X[val_idx]\n",
    "        y_train, y_valid = y[train_idx], y[val_idx]\n",
    "\n",
    "        # Train model\n",
    "        clf = classifier\n",
    "        clf.fit(X_train, y_train)\n",
    "\n",
    "        # Make predictions and measure accuracy\n",
    "        preds += clf.predict_proba(X_test)[:,1]\n",
    "        score += clf.score(X_valid, y_valid)\n",
    "\n",
    "    # Average accuracy    \n",
    "    score=score/FOLDS\n",
    "    \n",
    "    # Stop timer\n",
    "    stop = time.time()\n",
    "\n",
    "    # Print accuracy and time\n",
    "    print('Model:', key)\n",
    "    print('Average validation accuracy:', np.round(100*score,2))\n",
    "    print('Training time (mins):', np.round((stop - start)/60,2))\n",
    "    print('')\n",
    "    \n",
    "# Ensemble predictions\n",
    "preds=preds/(FOLDS*len(best_classifiers))"
   ]
  },
  {
   "cell_type": "code",
   "execution_count": 56,
   "id": "27011ef8",
   "metadata": {
    "execution": {
     "iopub.execute_input": "2022-10-30T19:20:18.287111Z",
     "iopub.status.busy": "2022-10-30T19:20:18.286627Z",
     "iopub.status.idle": "2022-10-30T19:20:18.291770Z",
     "shell.execute_reply": "2022-10-30T19:20:18.290607Z"
    },
    "papermill": {
     "duration": 0.041035,
     "end_time": "2022-10-30T19:20:18.294111",
     "exception": false,
     "start_time": "2022-10-30T19:20:18.253076",
     "status": "completed"
    },
    "tags": []
   },
   "outputs": [],
   "source": [
    "# Submission\n"
   ]
  },
  {
   "cell_type": "code",
   "execution_count": 57,
   "id": "b12e1759",
   "metadata": {
    "execution": {
     "iopub.execute_input": "2022-10-30T19:20:18.360378Z",
     "iopub.status.busy": "2022-10-30T19:20:18.359158Z",
     "iopub.status.idle": "2022-10-30T19:20:18.798229Z",
     "shell.execute_reply": "2022-10-30T19:20:18.796940Z"
    },
    "papermill": {
     "duration": 0.474802,
     "end_time": "2022-10-30T19:20:18.800596",
     "exception": false,
     "start_time": "2022-10-30T19:20:18.325794",
     "status": "completed"
    },
    "tags": []
   },
   "outputs": [
    {
     "data": {
      "text/plain": [
       "Text(0.5, 0, 'Probability')"
      ]
     },
     "execution_count": 57,
     "metadata": {},
     "output_type": "execute_result"
    },
    {
     "data": {
      "image/png": "[encoded data removed]",
      "text/plain": [
       "<Figure size 720x288 with 1 Axes>"
      ]
     },
     "metadata": {
      "needs_background": "light"
     },
     "output_type": "display_data"
    }
   ],
   "source": [
    "plt.figure(figsize=(10,4))\n",
    "sns.histplot(preds, binwidth=0.01, kde=True)\n",
    "plt.title('Predicted probabilities')\n",
    "plt.xlabel('Probability')"
   ]
  },
  {
   "cell_type": "code",
   "execution_count": 58,
   "id": "a52ce667",
   "metadata": {
    "execution": {
     "iopub.execute_input": "2022-10-30T19:20:18.866721Z",
     "iopub.status.busy": "2022-10-30T19:20:18.866308Z",
     "iopub.status.idle": "2022-10-30T19:20:18.871759Z",
     "shell.execute_reply": "2022-10-30T19:20:18.870591Z"
    },
    "papermill": {
     "duration": 0.042725,
     "end_time": "2022-10-30T19:20:18.875161",
     "exception": false,
     "start_time": "2022-10-30T19:20:18.832436",
     "status": "completed"
    },
    "tags": []
   },
   "outputs": [
    {
     "name": "stdout",
     "output_type": "stream",
     "text": [
      "49.61\n"
     ]
    }
   ],
   "source": [
    "# Proportion (in test set) we get from rounding\n",
    "print(np.round(100*np.round(preds).sum()/len(preds),2))"
   ]
  },
  {
   "cell_type": "code",
   "execution_count": 59,
   "id": "a9e79b57",
   "metadata": {
    "execution": {
     "iopub.execute_input": "2022-10-30T19:20:18.940483Z",
     "iopub.status.busy": "2022-10-30T19:20:18.940103Z",
     "iopub.status.idle": "2022-10-30T19:20:18.944968Z",
     "shell.execute_reply": "2022-10-30T19:20:18.943790Z"
    },
    "papermill": {
     "duration": 0.040306,
     "end_time": "2022-10-30T19:20:18.947115",
     "exception": false,
     "start_time": "2022-10-30T19:20:18.906809",
     "status": "completed"
    },
    "tags": []
   },
   "outputs": [],
   "source": [
    "# Classify test set using optimal threshold\n",
    "preds_tuned=(preds>=0.5).astype(int)"
   ]
  },
  {
   "cell_type": "code",
   "execution_count": 60,
   "id": "021f5286",
   "metadata": {
    "execution": {
     "iopub.execute_input": "2022-10-30T19:20:19.013979Z",
     "iopub.status.busy": "2022-10-30T19:20:19.013600Z",
     "iopub.status.idle": "2022-10-30T19:20:19.021095Z",
     "shell.execute_reply": "2022-10-30T19:20:19.020084Z"
    },
    "papermill": {
     "duration": 0.043758,
     "end_time": "2022-10-30T19:20:19.023301",
     "exception": false,
     "start_time": "2022-10-30T19:20:18.979543",
     "status": "completed"
    },
    "tags": []
   },
   "outputs": [],
   "source": [
    "# Submit predictions\n",
    "\n",
    "# Add predictions\n",
    "submission['Transported']=preds_tuned\n",
    "\n",
    "# Replace 0 to False and 1 to True\n",
    "submission=submission.replace({0:False, 1:True})"
   ]
  },
  {
   "cell_type": "code",
   "execution_count": 61,
   "id": "a16e40ee",
   "metadata": {
    "execution": {
     "iopub.execute_input": "2022-10-30T19:20:19.089866Z",
     "iopub.status.busy": "2022-10-30T19:20:19.089145Z",
     "iopub.status.idle": "2022-10-30T19:20:19.098439Z",
     "shell.execute_reply": "2022-10-30T19:20:19.097391Z"
    },
    "papermill": {
     "duration": 0.045018,
     "end_time": "2022-10-30T19:20:19.100559",
     "exception": false,
     "start_time": "2022-10-30T19:20:19.055541",
     "status": "completed"
    },
    "tags": []
   },
   "outputs": [
    {
     "data": {
      "text/html": [
       "<div>\n",
       "<style scoped>\n",
       "    .dataframe tbody tr th:only-of-type {\n",
       "        vertical-align: middle;\n",
       "    }\n",
       "\n",
       "    .dataframe tbody tr th {\n",
       "        vertical-align: top;\n",
       "    }\n",
       "\n",
       "    .dataframe thead th {\n",
       "        text-align: right;\n",
       "    }\n",
       "</style>\n",
       "<table border=\"1\" class=\"dataframe\">\n",
       "  <thead>\n",
       "    <tr style=\"text-align: right;\">\n",
       "      <th></th>\n",
       "      <th>PassengerId</th>\n",
       "      <th>Transported</th>\n",
       "    </tr>\n",
       "  </thead>\n",
       "  <tbody>\n",
       "    <tr>\n",
       "      <th>0</th>\n",
       "      <td>0013_01</td>\n",
       "      <td>True</td>\n",
       "    </tr>\n",
       "    <tr>\n",
       "      <th>1</th>\n",
       "      <td>0018_01</td>\n",
       "      <td>False</td>\n",
       "    </tr>\n",
       "    <tr>\n",
       "      <th>2</th>\n",
       "      <td>0019_01</td>\n",
       "      <td>True</td>\n",
       "    </tr>\n",
       "    <tr>\n",
       "      <th>3</th>\n",
       "      <td>0021_01</td>\n",
       "      <td>True</td>\n",
       "    </tr>\n",
       "    <tr>\n",
       "      <th>4</th>\n",
       "      <td>0023_01</td>\n",
       "      <td>False</td>\n",
       "    </tr>\n",
       "  </tbody>\n",
       "</table>\n",
       "</div>"
      ],
      "text/plain": [
       "  PassengerId  Transported\n",
       "0     0013_01         True\n",
       "1     0018_01        False\n",
       "2     0019_01         True\n",
       "3     0021_01         True\n",
       "4     0023_01        False"
      ]
     },
     "execution_count": 61,
     "metadata": {},
     "output_type": "execute_result"
    }
   ],
   "source": [
    "submission.head()"
   ]
  },
  {
   "cell_type": "code",
   "execution_count": 62,
   "id": "d1d1308d",
   "metadata": {
    "execution": {
     "iopub.execute_input": "2022-10-30T19:20:19.167077Z",
     "iopub.status.busy": "2022-10-30T19:20:19.165890Z",
     "iopub.status.idle": "2022-10-30T19:20:19.179171Z",
     "shell.execute_reply": "2022-10-30T19:20:19.178223Z"
    },
    "papermill": {
     "duration": 0.048905,
     "end_time": "2022-10-30T19:20:19.181585",
     "exception": false,
     "start_time": "2022-10-30T19:20:19.132680",
     "status": "completed"
    },
    "tags": []
   },
   "outputs": [],
   "source": [
    "submission.to_csv('submission.csv', index = False)"
   ]
  }
 ],
 "metadata": {
  "kernelspec": {
   "display_name": "Python 3",
   "language": "python",
   "name": "python3"
  },
  "language_info": {
   "codemirror_mode": {
    "name": "ipython",
    "version": 3
   },
   "file_extension": ".py",
   "mimetype": "text/x-python",
   "name": "python",
   "nbconvert_exporter": "python",
   "pygments_lexer": "ipython3",
   "version": "3.7.12"
  },
  "papermill": {
   "default_parameters": {},
   "duration": 901.413097,
   "end_time": "2022-10-30T19:20:21.836624",
   "environment_variables": {},
   "exception": null,
   "input_path": "__notebook__.ipynb",
   "output_path": "__notebook__.ipynb",
   "parameters": {},
   "start_time": "2022-10-30T19:05:20.423527",
   "version": "2.3.4"
  }
 },
 "nbformat": 4,
 "nbformat_minor": 5
}
